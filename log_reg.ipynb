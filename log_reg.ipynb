{
 "cells": [
  {
   "cell_type": "code",
   "execution_count": 1,
   "id": "bcf76692-a4d7-4c5e-938b-3fcf72ce87c9",
   "metadata": {},
   "outputs": [],
   "source": [
    "import pandas as pd\n",
    "import numpy as np\n",
    "from sklearn.preprocessing import OneHotEncoder\n",
    "from sklearn.preprocessing import StandardScaler\n",
    "from sklearn.linear_model import LogisticRegression\n",
    "from sklearn.metrics import accuracy_score\n",
    "import matplotlib.pyplot as plt\n",
    "\n",
    "import warnings\n",
    "warnings.filterwarnings('ignore')"
   ]
  },
  {
   "cell_type": "code",
   "execution_count": 2,
   "id": "ba69db07-c5ed-44cf-b5f5-d11e7141beeb",
   "metadata": {},
   "outputs": [],
   "source": [
    "df = pd.read_csv('train.csv')\n",
    "df = df.sort_values('timestamp')\n",
    "df['timestamp'] = pd.to_datetime(df['timestamp'], format='%Y-%m-%d %H:%M:%S')"
   ]
  },
  {
   "cell_type": "markdown",
   "id": "74b60fa3-4a19-4056-b598-14ad36ace465",
   "metadata": {},
   "source": [
    "take last 2 months for validation  \n",
    "remove gate_id that I don't want to predict by model (I predicted it based on EDA)"
   ]
  },
  {
   "cell_type": "code",
   "execution_count": 3,
   "id": "1b6661f1-b92f-47f5-a22b-6f51209dc346",
   "metadata": {},
   "outputs": [],
   "source": [
    "df_train = df[df['timestamp'] < pd.to_datetime('2022-11-01')]\n",
    "df_test = df[df['timestamp'] >= pd.to_datetime('2022-11-01')]\n",
    "df_test = df_test[~(df_test['gate_id'].isin([14,1,-1]))]"
   ]
  },
  {
   "cell_type": "code",
   "execution_count": 4,
   "id": "faafdc58-7a5c-4b88-8d3b-bc83de9e96d6",
   "metadata": {},
   "outputs": [],
   "source": [
    "def get_feats(df, check='train'):\n",
    "    # time features\n",
    "    df['timestamp'] = pd.to_datetime(df['timestamp'], format='%Y-%m-%d %H:%M:%S')\n",
    "    df['hour'] = df['timestamp'].dt.hour\n",
    "    df['minute'] = df['timestamp'].dt.minute\n",
    "    df['second'] = df['timestamp'].dt.second\n",
    "    df['date'] = df['timestamp'].apply(lambda x: str(x)[:10])\n",
    "    df['start_month'] = (df[\"timestamp\"].dt.is_month_start).astype('int') \n",
    "    df['end_month'] = (df[\"timestamp\"].dt.is_month_end).astype('int') \n",
    "    # get previous timestamps\n",
    "    df['timestamp_prev'] = df['timestamp'].shift(1)\n",
    "    df['timestamp_prev2'] = df['timestamp'].shift(2)\n",
    "    df['timestamp_prev3'] = df['timestamp'].shift(3)\n",
    "    df['timestamp_prev4'] = df['timestamp'].shift(4)\n",
    "    df['timestamp_prev5'] = df['timestamp'].shift(5)\n",
    "    # get previous gates\n",
    "    df['prev_gate_id'] = df['gate_id'].shift(1).fillna(-2)\n",
    "    df['prev2_gate_id'] = df['gate_id'].shift(2).fillna(-2)\n",
    "    df['prev3_gate_id'] = df['gate_id'].shift(3).fillna(-2)\n",
    "    df['prev4_gate_id'] = df['gate_id'].shift(4).fillna(-2)\n",
    "    df['prev5_gate_id'] = df['gate_id'].shift(5).fillna(-2)\n",
    "    # get min, max, first, last, moda and cnt gates\n",
    "    tmp = df.groupby(['date'])['gate_id'].min().reset_index()\n",
    "    tmp=tmp.rename({'gate_id':'min_gate_id'},axis=1)\n",
    "    df = df.merge(tmp, how='left', on=['date'])\n",
    "    tmp = df.groupby(['date'])['gate_id'].max().reset_index()\n",
    "    tmp=tmp.rename({'gate_id':'max_gate_id'},axis=1)\n",
    "    df = df.merge(tmp, how='left', on=['date'])\n",
    "    tmp = df.groupby(['date'])['gate_id'].first().reset_index()\n",
    "    tmp=tmp.rename({'gate_id':'first_gate_id'},axis=1)\n",
    "    df = df.merge(tmp, how='left', on=['date'])\n",
    "    tmp = df.groupby(['date'])['gate_id'].last().reset_index()\n",
    "    tmp=tmp.rename({'gate_id':'last_gate_id'},axis=1)\n",
    "    df = df.merge(tmp, how='left', on=['date'])\n",
    "    tmp = df.groupby(['date'])['gate_id'].agg(lambda x: x.value_counts().index[0]).reset_index()\n",
    "    tmp=tmp.rename({'gate_id':'moda_gate_id'},axis=1)\n",
    "    df = df.merge(tmp, how='left', on=['date'])\n",
    "    df['min_gate_id'] = (df['gate_id'] == df['min_gate_id']).astype(int)\n",
    "    df['max_gate_id'] = (df['gate_id'] == df['max_gate_id']).astype(int)\n",
    "    df['first_gate_id'] = (df['gate_id'] == df['first_gate_id']).astype(int)\n",
    "    df['last_gate_id'] = (df['gate_id'] == df['last_gate_id']).astype(int)\n",
    "    df['moda_gate_id'] = (df['gate_id'] == df['moda_gate_id']).astype(int)\n",
    "    tmp = df.groupby(['date','gate_id']).size().reset_index()\n",
    "    tmp=tmp.rename({0:'cnt_gateday'},axis=1)\n",
    "    df = df.merge(tmp, how='left', on=['date','gate_id'])\n",
    "    # get same gates with previous\n",
    "    df['same_gate_id'] = (df['gate_id'] == df['prev_gate_id']).astype('int')   \n",
    "    df['same2_gate_id'] = (df['gate_id'] == df['prev2_gate_id']).astype('int')   \n",
    "    df['same3_gate_id'] = (df['gate_id'] == df['prev3_gate_id']).astype('int')\n",
    "    df['same4_gate_id'] = (df['gate_id'] == df['prev4_gate_id']).astype('int')   \n",
    "    df['same5_gate_id'] = (df['gate_id'] == df['prev5_gate_id']).astype('int') \n",
    "    # get delta timestamps\n",
    "    df['delta'] = df['timestamp_prev'] - df['timestamp']\n",
    "    df['delta2'] = df['timestamp_prev2'] - df['timestamp']\n",
    "    df['delta3'] = df['timestamp_prev3'] - df['timestamp']\n",
    "    df['delta4'] = df['timestamp_prev4'] - df['timestamp']\n",
    "    df['delta5'] = df['timestamp_prev5'] - df['timestamp']\n",
    "    df['delta_days'] = df['delta'].dt.days.fillna(0)\n",
    "    df['delta_hours'] = (df['delta'].dt.seconds // 3600).fillna(0)\n",
    "    df['delta_minutes'] = (df['delta'].dt.seconds // 60 - (df['delta'].dt.seconds // 3600 * 60)).fillna(0)\n",
    "    df['delta_seconds'] = (df['delta'].dt.seconds).fillna(0)\n",
    "    df['delta_seconds2'] = (df['delta2'].dt.seconds).fillna(0)\n",
    "    df['delta_seconds3'] = (df['delta3'].dt.seconds).fillna(0)\n",
    "    df['delta_seconds4'] = (df['delta4'].dt.seconds).fillna(0)\n",
    "    df['delta_seconds5'] = (df['delta5'].dt.seconds).fillna(0)\n",
    "    df['delta_seconds_0'] = (df['delta_seconds'] == 0).astype(int)\n",
    "    df['delta_seconds_3'] = (df['delta_seconds'] <= 3).astype(int)\n",
    "    df['delta_seconds_86000'] = (df['delta_seconds'] > 86000).astype(int) # a lot of counts with this number of seconds\n",
    "    df['delta_seconds3_86000'] = (df['delta_seconds3'] > 86000).astype(int)\n",
    "    df['morning'] = ((df['hour'] >= 6) & (df['hour'] < 12)).astype(int)\n",
    "    df['evening'] = ((df['hour'] >= 18) & (df['hour'] <= 23)).astype(int)\n",
    "    df['minute15'] = (df['minute'] <= 15).astype(int)\n",
    "    df['minute45'] = (df['minute'] >= 45).astype(int)\n",
    "    df['delta_minutes45'] = (df['delta_minutes'] > 45).astype(int)\n",
    "    df['2days'] = (df[\"timestamp\"].dt.dayofyear % 4).apply(lambda x: 1 if x in (1, 2) else 0) # 2-2 work\n",
    "    # get other timestamp features\n",
    "    df['day'] = df['timestamp'].dt.day\n",
    "    df['dayofweek'] = df['timestamp'].dt.dayofweek\n",
    "    df['last_week'] = (df['day'] >= 30).astype('int') \n",
    "    df['first_week'] = (df['day'] <= 5).astype('int')       \n",
    "    df['weekend'] = df['dayofweek'].isin([6,7]).astype('int')\n",
    "    df['weekend'] = np.where(df['date'] == '2022-11-05',0,df['weekend'])\n",
    "    df['holiday'] = (df['date'].isin(['2022-09-12','2022-11-25','2023-01-16'])).astype(int)\n",
    "    df['holiday'] = np.where(df['date'] > '2023-02-02',1,df['holiday'])\n",
    "    df['holiday'] = np.where(((df['date'] > '2022-11-07') & (df['date'] < '2022-11-17')).astype(int),1,df['holiday'])\n",
    "    df['weekend'] = (df['weekend'] | df['holiday']).astype(int) # union holiday and weekend\n",
    "    enc = OneHotEncoder()\n",
    "    enc.fit(df[['dayofweek']])\n",
    "    days = pd.DataFrame(enc.transform(df[['dayofweek']]).toarray())\n",
    "    days.columns = ['Monday','Tuesday','Wednesday','Thursday','Friday','Saturday','Sunday']\n",
    "    days.index = df.index\n",
    "    df = df.join(days)\n",
    "    # get gates patterns\n",
    "    df['3_4_7_10_11'] = (df['gate_id'].isin([3,4,7,10,11])).astype(int)\n",
    "    df['4_5_7_10_11'] = (df['gate_id'].isin([5,4,7,10,11])).astype(int)\n",
    "    df['3_4'] = ((df['gate_id'] == 3) & (df['prev_gate_id'] == 4)).astype(int)\n",
    "    df['10_11'] = ((df['gate_id'] == 10) & (df['prev_gate_id'] == 11)).astype(int)\n",
    "    df['4_5'] = ((df['gate_id'] == 4) & (df['prev_gate_id'] == 5)).astype(int)\n",
    "    # get binary for each gate, hour, prev_gate, delta_hour\n",
    "    for i in range(-1,17):\n",
    "        df[f'gate_{i}'] = (df['gate_id'] == i).astype('int')        \n",
    "    for i in range(7,24):\n",
    "        df[f'hour_{i}'] = (df['hour'] == i).astype('int')\n",
    "    for i in range(-1,17):\n",
    "        df[f'prev_gate_{i}'] = (df['prev_gate_id'] == i).astype('int') \n",
    "    for i in range(-1,17):\n",
    "        df[f'prev2_gate_{i}'] = (df['prev2_gate_id'] == i).astype('int') \n",
    "    for i in range(24):\n",
    "        df[f'delta_hours_{i}'] = (df['delta_hours'] == i).astype('int')\n",
    "    # get more timestamp lags  \n",
    "    df[\"lag\"] = ((df[\"timestamp\"] - df[\"timestamp_prev\"]) / np.timedelta64(1, \"s\")).apply(lambda x: 1 if x < 2 else 0)\n",
    "    df[\"l3s\"] = ((df[\"timestamp\"] - df[\"timestamp_prev\"]) / np.timedelta64(1, \"s\")).apply(lambda x: 1 if x <= 3 else 0)\n",
    "    df[\"l-1\"] = df[\"l3s\"].shift(-1)\n",
    "    df.loc[(df[\"l3s\"] == 1) | (df[\"l-1\"] == 1), \"ls1\"] = 1\n",
    "    df[\"lag1\"] = ((df[\"timestamp\"] - df[\"timestamp_prev\"]) / np.timedelta64(1, \"s\")).apply(lambda x: 1 if 6 > x > 2 else 0)\n",
    "    df[\"lag2\"] = ((df[\"timestamp\"] - df[\"timestamp_prev\"]) / np.timedelta64(1, \"s\")).apply(lambda x: 1 if 15 > x >= 6 else 0)\n",
    "    df[\"lag3\"] = ((df[\"timestamp\"] - df[\"timestamp_prev\"]) / np.timedelta64(1, \"s\")).apply(lambda x: 1 if 22 > x >= 15 else 0)\n",
    "    df[\"lag4\"] = ((df[\"timestamp\"] - df[\"timestamp_prev\"]) / np.timedelta64(1, \"s\")).apply(lambda x: 1 if 32 > x >= 22 else 0)\n",
    "    df[\"lag5\"] = ((df[\"timestamp\"] - df[\"timestamp_prev\"]) / np.timedelta64(1, \"s\")).apply(lambda x: 1 if 42 > x > 32 else 0)\n",
    "    df[\"lag6\"] = ((df[\"timestamp\"] - df[\"timestamp_prev\"]) / np.timedelta64(1, \"s\")).apply(lambda x: 1 if 58 > x >= 42 else 0)\n",
    "    df[\"lag7\"] = ((df[\"timestamp\"] - df[\"timestamp_prev\"]) / np.timedelta64(1, \"s\")).apply(lambda x: 1 if 69 > x >= 58 else 0)\n",
    "    df[\"lag8\"] = ((df[\"timestamp\"] - df[\"timestamp_prev\"]) / np.timedelta64(1, \"s\")).apply(lambda x: 1 if 76 > x >= 69 else 0)\n",
    "    df[\"lag9\"] = ((df[\"timestamp\"] - df[\"timestamp_prev\"]) / np.timedelta64(1, \"s\")).apply(lambda x: 1 if 130 >= x > 127 else 0)\n",
    "    df[\"lag0\"] = ((df[\"timestamp\"] - df[\"timestamp_prev\"]) / np.timedelta64(1, \"s\")).apply(lambda x: 0 if x > 69 else x)\n",
    "    df[\"lagx\"] = ((df[\"timestamp\"] - df[\"timestamp_prev\"]) / np.timedelta64(1, \"s\")).apply(lambda x: 1 if x > 130 else 0)\n",
    "    # get more same gates\n",
    "    df[\"double\"] = ((df[\"gate_id\"] == df['prev_gate_id']) & (df[\"ls1\"] == 1) | (df[\"gate_id\"] == df['prev2_gate_id'])).astype('int') \n",
    "    df[\"double2\"] = ((df[\"gate_id\"] == df[\"prev_gate_id\"]) & (df[\"lag\"] == 0) | (df[\"gate_id\"] == df[\"prev2_gate_id\"])).astype('int')\n",
    "    df[\"double3\"] = ((df[\"gate_id\"] == df[\"prev_gate_id\"]) & (df[\"lag1\"] == 1) | (df[\"gate_id\"] == df[\"prev2_gate_id\"])).astype('int')\n",
    "    df[\"double4\"] = ((df[\"gate_id\"] == df[\"prev_gate_id\"]) & (df[\"lag2\"] == 1) | (df[\"gate_id\"] == df[\"prev2_gate_id\"])).astype('int')\n",
    "    df[\"double5\"] = ((df[\"gate_id\"] == df[\"prev_gate_id\"]) & (df[\"lag3\"] == 1) | (df[\"gate_id\"] == df[\"prev2_gate_id\"])).astype('int')\n",
    "    df[\"double6\"] = ((df[\"gate_id\"] == df[\"prev_gate_id\"]) & (df[\"lag4\"] == 1) | (df[\"gate_id\"] == df[\"prev2_gate_id\"])).astype('int')\n",
    "    df[\"double7\"] = ((df[\"gate_id\"] == df[\"prev_gate_id\"]) & (df[\"lag7\"] == 1) | (df[\"gate_id\"] == df[\"prev2_gate_id\"])).astype('int')\n",
    "    df[\"double8\"] = ((df[\"gate_id\"] == df[\"prev_gate_id\"]) & (df[\"lagx\"] == 1) | (df[\"gate_id\"] == df[\"prev2_gate_id\"])).astype('int')\n",
    "    # get more gate patterns\n",
    "    # 10-3-3\n",
    "    df.loc[((df[\"gate_id\"]==10) & (df['prev_gate_id']==3) & (df['prev2_gate_id']==3)) |\n",
    "        ((df[\"gate_id\"]==10) & (df['prev_gate_id']==3) & (df['prev3_gate_id']==3)) |\n",
    "        ((df[\"gate_id\"]==10) & (df['prev2_gate_id']==3) & (df['prev3_gate_id']==3)) |\n",
    "        ((df[\"gate_id\"]==10) & (df['prev_gate_id']==3) & (df['prev4_gate_id']==3)) |\n",
    "        ((df[\"gate_id\"]==10) & (df['prev2_gate_id']==3) & (df['prev4_gate_id']==3)) |\n",
    "        ((df[\"gate_id\"]==10) & (df['prev_gate_id']==3) & (df['prev5_gate_id']==3) & (df[\"ls1\"]==1)), \"10_3_3\"] = 1\n",
    "    # 11-4-4\n",
    "    df.loc[((df[\"gate_id\"]==11) & (df['prev_gate_id']==4) & (df['prev2_gate_id']==4)) |\n",
    "        ((df[\"gate_id\"]==11) & (df['prev_gate_id']==4) & (df['prev3_gate_id']==4)) |\n",
    "        ((df[\"gate_id\"]==11) & (df['prev2_gate_id']==4) & (df['prev3_gate_id']==4)) |\n",
    "        ((df[\"gate_id\"]==11) & (df['prev_gate_id']==4) & (df['prev4_gate_id']==4)) |\n",
    "        ((df[\"gate_id\"]==11) & (df['prev2_gate_id']==4) & (df['prev4_gate_id']==4)) |\n",
    "        ((df[\"gate_id\"]==11) & (df['prev_gate_id']==4) & (df['prev5_gate_id']==4) & (df[\"ls1\"]==1)), \"11_4_4\"] = 1 \n",
    "    df['7_9_5_10'] = (df['gate_id'].isin([7,9,5,10])).astype(int)\n",
    "    df['9_5_10'] = (df['gate_id'].isin([9,5,10])).astype(int)\n",
    "    # get previous gate without fillna -2\n",
    "    df[\"gs1\"] = df[\"gate_id\"].shift(1) \n",
    "    df[\"gs2\"] = df[\"gate_id\"].shift(2)\n",
    "    df[\"gs3\"] = df[\"gate_id\"].shift(3)\n",
    "    df[\"gs4\"] = df[\"gate_id\"].shift(4)\n",
    "    df[\"gs5\"] = df[\"gate_id\"].shift(5)\n",
    "    # get next gate\n",
    "    df[\"gs-1\"] = df[\"gate_id\"].shift(-1)\n",
    "    df[\"gs-2\"] = df[\"gate_id\"].shift(-2)\n",
    "    df[\"gs-3\"] = df[\"gate_id\"].shift(-3)\n",
    "    df[\"gs-4\"] = df[\"gate_id\"].shift(-4)\n",
    "    df[\"gs-5\"] = df[\"gate_id\"].shift(-5)  \n",
    "    # 11-4-4 other realisation\n",
    "    df.loc[(df[\"gate_id\"].eq(11) & df[\"gs-1\"].eq(4) & df[\"gs-2\"].eq(4)) |\n",
    "             (df[\"gate_id\"].eq(4) & df[\"gs1\"].eq(11) & df[\"gs-1\"].eq(4) & df[\"ls1\"].eq(1)) |\n",
    "             (df[\"gate_id\"].eq(4) & df[\"gs1\"].eq(4) & df[\"gs2\"].eq(11) & df[\"ls1\"].eq(1)) |\n",
    "             (df[\"gate_id\"].eq(11) & df[\"gs-2\"].eq(4) & df[\"gs-3\"].eq(4)) |\n",
    "             (df[\"gate_id\"].eq(4) & df[\"gs2\"].eq(11) & df[\"gs-1\"].eq(4) & df[\"ls1\"].eq(1)) |\n",
    "             (df[\"gate_id\"].eq(4) & df[\"gs1\"].eq(4) & df[\"gs3\"].eq(11) & df[\"ls1\"].eq(1)) |\n",
    "             (df[\"gate_id\"].eq(11) & df[\"gs-1\"].eq(4) & df[\"gs-3\"].eq(4)) |\n",
    "             (df[\"gate_id\"].eq(4) & df[\"gs1\"].eq(11) & df[\"gs-2\"].eq(4) & df[\"ls1\"].eq(1)) |\n",
    "             (df[\"gate_id\"].eq(4) & df[\"gs2\"].eq(4) & df[\"gs3\"].eq(11) & df[\"ls1\"].eq(1)) |\n",
    "             (df[\"gate_id\"].eq(11) & df[\"gs-3\"].eq(4) & df[\"gs-4\"].eq(4)) |\n",
    "             (df[\"gate_id\"].eq(4) & df[\"gs3\"].eq(11) & df[\"gs-1\"].eq(4) & df[\"ls1\"].eq(1)) |\n",
    "             (df[\"gate_id\"].eq(4) & df[\"gs1\"].eq(4) & df[\"gs4\"].eq(11) & df[\"ls1\"].eq(1)) |\n",
    "             (df[\"gate_id\"].eq(11) & df[\"gs-2\"].eq(4) & df[\"gs-4\"].eq(4)) |\n",
    "             (df[\"gate_id\"].eq(4) & df[\"gs2\"].eq(11) & df[\"gs-2\"].eq(4) & df[\"ls1\"].eq(1)) |\n",
    "             (df[\"gate_id\"].eq(4) & df[\"gs2\"].eq(4) & df[\"gs4\"].eq(11) & df[\"ls1\"].eq(1)) |\n",
    "             (df[\"gate_id\"].eq(11) & df[\"gs-1\"].eq(4) & df[\"gs-4\"].eq(4)) |\n",
    "             (df[\"gate_id\"].eq(4) & df[\"gs1\"].eq(11) & df[\"gs-3\"].eq(4) & df[\"ls1\"].eq(1)) |\n",
    "             (df[\"gate_id\"].eq(4) & df[\"gs3\"].eq(4) & df[\"gs4\"].eq(11) & df[\"ls1\"].eq(1)), \"1144\"] = 1\n",
    "    # 7-3-3-10\n",
    "    df[\"73310\"] = df[\"gate_id\"][(df[\"gate_id\"].eq(7) & df[\"gs-1\"].eq(3) & df[\"gs-2\"].eq(3) & df[\"gs-3\"].eq(10)) |\n",
    "                                   (df[\"gate_id\"].eq(3) & df[\"gs1\"].eq(7) & df[\"gs-1\"].eq(3) & df[\"gs-2\"].eq(10)) |\n",
    "                                   (df[\"gate_id\"].eq(3) & df[\"gs1\"].eq(3) & df[\"gs2\"].eq(7) & df[\"gs-1\"].eq(10)) |\n",
    "                                   (df[\"gate_id\"].eq(10) & df[\"gs1\"].eq(3) & df[\"gs2\"].eq(3) & df[\"gs3\"].eq(7))].apply(lambda x: 1 if x >= 1 else 0)\n",
    "    # binary for each next gate_id\n",
    "    for i in range(-1,17):\n",
    "        df[f'gs1_{i}'] = (df['gs-1'] == i).astype('int')\n",
    " \n",
    "    \n",
    "    return df"
   ]
  },
  {
   "cell_type": "code",
   "execution_count": 5,
   "id": "325d5795-f585-4ca7-bc98-0671ef3b6e4f",
   "metadata": {},
   "outputs": [],
   "source": [
    "# users that have small or old history\n",
    "very_wrong_user = [4,20,31,38,44,51,52]\n",
    "not_in_user = [13,16]\n",
    "wrong_user = [4,5,7,8,10,20,21,30,31,38,40,42,44,45,51,52,57]"
   ]
  },
  {
   "cell_type": "code",
   "execution_count": 6,
   "id": "2faca615-5b84-4b59-be8c-2fe2f396304a",
   "metadata": {},
   "outputs": [],
   "source": [
    "df_train = get_feats(df_train)\n",
    "df_test = get_feats(df_test)"
   ]
  },
  {
   "cell_type": "code",
   "execution_count": 7,
   "id": "6edeee77-8f34-4840-938f-dec062b9f7b3",
   "metadata": {
    "tags": []
   },
   "outputs": [],
   "source": [
    "cols_scale = ['gate_id', 'hour', 'minute', 'second','prev_gate_id', 'delta_days', 'delta_hours', 'delta_minutes',\n",
    "             'delta_seconds', 'day', 'dayofweek','prev2_gate_id','prev3_gate_id','prev4_gate_id','prev5_gate_id',\n",
    "             'delta_seconds2','cnt_gateday',\"gs-1\",\"gs-2\",\"gs-3\",\"gs-4\",\"gs-5\"]"
   ]
  },
  {
   "cell_type": "code",
   "execution_count": 8,
   "id": "ec0071c4-6a6c-4a7c-aa88-39321cd7fcfb",
   "metadata": {},
   "outputs": [],
   "source": [
    "scaler = StandardScaler()\n",
    "scaler.fit(df_train[cols_scale])\n",
    "df_train[cols_scale] = scaler.transform(df_train[cols_scale])\n",
    "df_test[cols_scale] = scaler.transform(df_test[cols_scale])"
   ]
  },
  {
   "cell_type": "code",
   "execution_count": 9,
   "id": "846ba583-d39b-477a-9bd7-b6135832cff6",
   "metadata": {},
   "outputs": [],
   "source": [
    "cols = ['hour', 'minute','delta_seconds','dayofweek','same_gate_id','delta_minutes',\n",
    "        'Monday', 'Tuesday', 'Wednesday','Thursday', 'Friday', 'Saturday',\n",
    "        'gate_3', 'gate_4', 'gate_5', 'gate_6', \n",
    "        'gate_7', 'gate_8', 'gate_9','gate_10', 'gate_11', 'gate_12', \n",
    "        'gate_13', 'gate_15',\n",
    "        'hour_7', 'hour_8', 'hour_9', 'hour_10','hour_11', 'hour_12', 'hour_13', \n",
    "        'hour_14', 'hour_15', 'hour_16','hour_17', 'hour_18', 'hour_19', \n",
    "        'hour_20', 'hour_21', 'hour_22','hour_23',\n",
    "        'prev_gate_3', 'prev_gate_4', 'prev_gate_5', 'prev_gate_6', \n",
    "        'prev_gate_7', 'prev_gate_8', 'prev_gate_9','prev_gate_10', 'prev_gate_11', 'prev_gate_12', \n",
    "        'prev_gate_13', 'prev_gate_15','weekend','prev3_gate_id',\n",
    "        'prev2_gate_3', 'prev2_gate_4', 'prev2_gate_5', 'prev2_gate_6', \n",
    "        'prev2_gate_7', 'prev2_gate_8', 'prev2_gate_9','prev2_gate_10', 'prev2_gate_11', 'prev2_gate_12', \n",
    "        'prev2_gate_13', 'prev2_gate_15','same2_gate_id',\n",
    "        '3_4_7_10_11','4_5_7_10_11','delta_seconds_0','delta_seconds_86000','delta_seconds_3',\n",
    "        'delta_hours_0','delta_hours_1','delta_hours_2','delta_hours_3','delta_hours_4','delta_hours_5',\n",
    "        'delta_hours_6','delta_hours_7','delta_hours_8','delta_hours_9','delta_hours_10','delta_hours_11',\n",
    "        'delta_hours_12','delta_hours_13','delta_hours_14','delta_hours_15','delta_hours_16','delta_hours_17',\n",
    "        'delta_hours_18','delta_hours_19','delta_hours_20','delta_hours_21','delta_hours_22','delta_hours_23',\n",
    "        'delta_minutes45','same5_gate_id','max_gate_id','first_gate_id',\n",
    "        '3_4','10_11','4_5','same4_gate_id','min_gate_id','last_gate_id','moda_gate_id',\n",
    "        'same3_gate_id','start_month',\"lag1\",\"lag2\",\"lag3\",\"lag4\",\"lag5\",\"lag6\",\"lag9\",\"l-1\",\"ls1\",\"lag\",\n",
    "        \"double\",\"double2\",\"double5\",\"double7\",\"10_3_3\",'7_9_5_10',\"1144\",\"73310\",\"gs-3\",\n",
    "        'gs1_3', 'gs1_4','gs1_5', 'gs1_6', 'gs1_7', 'gs1_8', 'gs1_9', 'gs1_10', 'gs1_11',\n",
    "        'gs1_12', 'gs1_13', 'gs1_15',\"cnt_gateday\"]"
   ]
  },
  {
   "cell_type": "code",
   "execution_count": 10,
   "id": "0e01461e-a403-44f7-9947-01b41368d11c",
   "metadata": {},
   "outputs": [],
   "source": [
    "# drop strange users\n",
    "df_train = df_train[~(df_train['user_id'].isin(wrong_user))]"
   ]
  },
  {
   "cell_type": "code",
   "execution_count": 11,
   "id": "999094e7-1d06-4a2c-997f-92daafadafb6",
   "metadata": {
    "tags": []
   },
   "outputs": [
    {
     "data": {
      "text/plain": [
       "(24.779705219899633, 14.943714821763601)"
      ]
     },
     "execution_count": 11,
     "metadata": {},
     "output_type": "execute_result"
    }
   ],
   "source": [
    "lr = LogisticRegression(random_state=42,C=10,solver='sag')\n",
    "lr.fit(df_train[cols].fillna(0), df_train['user_id'])\n",
    "accuracy_score(df_train['user_id'], lr.predict(df_train[cols].fillna(0))) * 100,\\\n",
    "accuracy_score(df_test['user_id'], lr.predict(df_test[cols].fillna(0))) * 100"
   ]
  },
  {
   "cell_type": "code",
   "execution_count": 13,
   "id": "f1b02d9a-222c-4ad7-a959-16d82e238b83",
   "metadata": {},
   "outputs": [
    {
     "data": {
      "text/plain": [
       "(24.779705219899633, 14.943714821763601)"
      ]
     },
     "execution_count": 13,
     "metadata": {},
     "output_type": "execute_result"
    }
   ],
   "source": [
    "(24.779705219899633, 14.943714821763601)"
   ]
  },
  {
   "cell_type": "code",
   "execution_count": 12,
   "id": "baffece7-cf84-46ed-8d13-eeabc61f6a02",
   "metadata": {},
   "outputs": [
    {
     "data": {
      "text/html": [
       "<div>\n",
       "<style scoped>\n",
       "    .dataframe tbody tr th:only-of-type {\n",
       "        vertical-align: middle;\n",
       "    }\n",
       "\n",
       "    .dataframe tbody tr th {\n",
       "        vertical-align: top;\n",
       "    }\n",
       "\n",
       "    .dataframe thead th {\n",
       "        text-align: right;\n",
       "    }\n",
       "</style>\n",
       "<table border=\"1\" class=\"dataframe\">\n",
       "  <thead>\n",
       "    <tr style=\"text-align: right;\">\n",
       "      <th></th>\n",
       "      <th>0</th>\n",
       "      <th>abs</th>\n",
       "    </tr>\n",
       "  </thead>\n",
       "  <tbody>\n",
       "    <tr>\n",
       "      <th>hour_16</th>\n",
       "      <td>-2.747841</td>\n",
       "      <td>2.747841</td>\n",
       "    </tr>\n",
       "    <tr>\n",
       "      <th>10_11</th>\n",
       "      <td>2.636565</td>\n",
       "      <td>2.636565</td>\n",
       "    </tr>\n",
       "    <tr>\n",
       "      <th>hour_9</th>\n",
       "      <td>-2.210508</td>\n",
       "      <td>2.210508</td>\n",
       "    </tr>\n",
       "    <tr>\n",
       "      <th>hour_11</th>\n",
       "      <td>2.210148</td>\n",
       "      <td>2.210148</td>\n",
       "    </tr>\n",
       "    <tr>\n",
       "      <th>double5</th>\n",
       "      <td>2.070615</td>\n",
       "      <td>2.070615</td>\n",
       "    </tr>\n",
       "    <tr>\n",
       "      <th>hour_18</th>\n",
       "      <td>-1.687442</td>\n",
       "      <td>1.687442</td>\n",
       "    </tr>\n",
       "    <tr>\n",
       "      <th>hour_13</th>\n",
       "      <td>1.590935</td>\n",
       "      <td>1.590935</td>\n",
       "    </tr>\n",
       "    <tr>\n",
       "      <th>hour_17</th>\n",
       "      <td>-1.561339</td>\n",
       "      <td>1.561339</td>\n",
       "    </tr>\n",
       "    <tr>\n",
       "      <th>gate_13</th>\n",
       "      <td>-1.453706</td>\n",
       "      <td>1.453706</td>\n",
       "    </tr>\n",
       "    <tr>\n",
       "      <th>double7</th>\n",
       "      <td>-1.376101</td>\n",
       "      <td>1.376101</td>\n",
       "    </tr>\n",
       "  </tbody>\n",
       "</table>\n",
       "</div>"
      ],
      "text/plain": [
       "                0       abs\n",
       "hour_16 -2.747841  2.747841\n",
       "10_11    2.636565  2.636565\n",
       "hour_9  -2.210508  2.210508\n",
       "hour_11  2.210148  2.210148\n",
       "double5  2.070615  2.070615\n",
       "hour_18 -1.687442  1.687442\n",
       "hour_13  1.590935  1.590935\n",
       "hour_17 -1.561339  1.561339\n",
       "gate_13 -1.453706  1.453706\n",
       "double7 -1.376101  1.376101"
      ]
     },
     "execution_count": 12,
     "metadata": {},
     "output_type": "execute_result"
    }
   ],
   "source": [
    "# feature importances\n",
    "feat_imp = pd.DataFrame({j:[i] for i,j in zip(lr.coef_[29],lr.feature_names_in_)}).T\n",
    "feat_imp['abs'] = np.abs(feat_imp[0])\n",
    "feat_imp.sort_values('abs', ascending=False).head(10)"
   ]
  },
  {
   "cell_type": "markdown",
   "id": "46b69a2c-2f22-480e-80d1-b7c519dcf017",
   "metadata": {},
   "source": [
    "# all model"
   ]
  },
  {
   "cell_type": "code",
   "execution_count": 13,
   "id": "511f9c31-d748-426b-803b-dbf38a94d30b",
   "metadata": {},
   "outputs": [],
   "source": [
    "df = get_feats(df)"
   ]
  },
  {
   "cell_type": "code",
   "execution_count": 14,
   "id": "29431a0a-5edd-4b46-80cb-fc531621a7c1",
   "metadata": {},
   "outputs": [],
   "source": [
    "scaler = StandardScaler()\n",
    "scaler.fit(df[cols_scale])\n",
    "df[cols_scale] = scaler.transform(df[cols_scale])"
   ]
  },
  {
   "cell_type": "code",
   "execution_count": 15,
   "id": "7b7851df-da01-421e-beef-e0d35ed65d91",
   "metadata": {},
   "outputs": [],
   "source": [
    "df = df[~(df['user_id'].isin(wrong_user))]"
   ]
  },
  {
   "cell_type": "code",
   "execution_count": 16,
   "id": "7c137f43-3d66-4450-9199-005b6ae33f16",
   "metadata": {},
   "outputs": [
    {
     "data": {
      "text/plain": [
       "23.311055416318574"
      ]
     },
     "execution_count": 16,
     "metadata": {},
     "output_type": "execute_result"
    }
   ],
   "source": [
    "# with C=10 and solver='sag' works faster, but gives less quality\n",
    "lr = LogisticRegression(random_state=42,C=100,solver='newton-cg')\n",
    "lr.fit(df[cols].fillna(0), df['user_id'])\n",
    "accuracy_score(df['user_id'], lr.predict(df[cols].fillna(0))) * 100"
   ]
  },
  {
   "cell_type": "code",
   "execution_count": 17,
   "id": "a249d7fb-bc4d-45bc-8b20-5dc4356bb99a",
   "metadata": {},
   "outputs": [],
   "source": [
    "test = pd.read_csv('test.csv')\n",
    "test = test.sort_values('timestamp')\n",
    "test = get_feats(test, check='test')"
   ]
  },
  {
   "cell_type": "code",
   "execution_count": 18,
   "id": "54d5981d-69f2-4fd3-8e4f-6adfc6fcc683",
   "metadata": {},
   "outputs": [],
   "source": [
    "# based on EDA\n",
    "test['user_id'] = np.where(test['gate_id'] == 14, 12, 999)\n",
    "test['user_id'] = np.where(test['gate_id'] == 1, 25, test['user_id'])\n",
    "test['user_id'] = np.where(test['gate_id'] == -1, 46, test['user_id'])"
   ]
  },
  {
   "cell_type": "code",
   "execution_count": 19,
   "id": "7c03f795-c923-4fb2-a38c-2e78911613e4",
   "metadata": {},
   "outputs": [],
   "source": [
    "test[cols_scale] = scaler.transform(test[cols_scale])\n",
    "pred = lr.predict(test[cols].fillna(0))\n",
    "test['pred'] = pred"
   ]
  },
  {
   "cell_type": "code",
   "execution_count": 20,
   "id": "2caa63bb-29a9-4377-8791-e796c8650a89",
   "metadata": {},
   "outputs": [],
   "source": [
    "# predictions or hypoteses based on EDA\n",
    "test['user_id'] = np.where(test['user_id'] == 999, test['pred'], test['user_id'])"
   ]
  },
  {
   "cell_type": "code",
   "execution_count": 21,
   "id": "a19d110f-a7b4-4ee2-b2b8-d5292e0e791e",
   "metadata": {},
   "outputs": [],
   "source": [
    "sub = pd.read_csv('sample_submission.csv')\n",
    "sub = sub.drop('target',axis=1).merge(test[['user_id','row_id']], how='left', on='row_id')\n",
    "sub.columns = ['row_id', 'target']"
   ]
  },
  {
   "cell_type": "code",
   "execution_count": 22,
   "id": "99f31fdc-538b-43d7-b7e5-7feff1dd7cae",
   "metadata": {},
   "outputs": [
    {
     "data": {
      "text/html": [
       "<div>\n",
       "<style scoped>\n",
       "    .dataframe tbody tr th:only-of-type {\n",
       "        vertical-align: middle;\n",
       "    }\n",
       "\n",
       "    .dataframe tbody tr th {\n",
       "        vertical-align: top;\n",
       "    }\n",
       "\n",
       "    .dataframe thead th {\n",
       "        text-align: right;\n",
       "    }\n",
       "</style>\n",
       "<table border=\"1\" class=\"dataframe\">\n",
       "  <thead>\n",
       "    <tr style=\"text-align: right;\">\n",
       "      <th></th>\n",
       "      <th>row_id</th>\n",
       "      <th>target</th>\n",
       "    </tr>\n",
       "  </thead>\n",
       "  <tbody>\n",
       "    <tr>\n",
       "      <th>0</th>\n",
       "      <td>37518</td>\n",
       "      <td>18</td>\n",
       "    </tr>\n",
       "    <tr>\n",
       "      <th>1</th>\n",
       "      <td>37519</td>\n",
       "      <td>18</td>\n",
       "    </tr>\n",
       "    <tr>\n",
       "      <th>2</th>\n",
       "      <td>37520</td>\n",
       "      <td>15</td>\n",
       "    </tr>\n",
       "    <tr>\n",
       "      <th>3</th>\n",
       "      <td>37521</td>\n",
       "      <td>15</td>\n",
       "    </tr>\n",
       "    <tr>\n",
       "      <th>4</th>\n",
       "      <td>37522</td>\n",
       "      <td>3</td>\n",
       "    </tr>\n",
       "    <tr>\n",
       "      <th>5</th>\n",
       "      <td>37523</td>\n",
       "      <td>1</td>\n",
       "    </tr>\n",
       "    <tr>\n",
       "      <th>6</th>\n",
       "      <td>37524</td>\n",
       "      <td>18</td>\n",
       "    </tr>\n",
       "    <tr>\n",
       "      <th>7</th>\n",
       "      <td>37525</td>\n",
       "      <td>1</td>\n",
       "    </tr>\n",
       "    <tr>\n",
       "      <th>8</th>\n",
       "      <td>37526</td>\n",
       "      <td>3</td>\n",
       "    </tr>\n",
       "    <tr>\n",
       "      <th>9</th>\n",
       "      <td>37527</td>\n",
       "      <td>3</td>\n",
       "    </tr>\n",
       "  </tbody>\n",
       "</table>\n",
       "</div>"
      ],
      "text/plain": [
       "   row_id  target\n",
       "0   37518      18\n",
       "1   37519      18\n",
       "2   37520      15\n",
       "3   37521      15\n",
       "4   37522       3\n",
       "5   37523       1\n",
       "6   37524      18\n",
       "7   37525       1\n",
       "8   37526       3\n",
       "9   37527       3"
      ]
     },
     "execution_count": 22,
     "metadata": {},
     "output_type": "execute_result"
    }
   ],
   "source": [
    "sub.head(10)"
   ]
  },
  {
   "cell_type": "code",
   "execution_count": 25,
   "id": "9ee18b08-d18a-4294-8ba8-fedc3371c6bd",
   "metadata": {},
   "outputs": [],
   "source": [
    "sub.to_csv('fullreg14_nwtcg.csv',index=False)"
   ]
  },
  {
   "cell_type": "markdown",
   "id": "180ce6b6-0927-4d93-829d-2d11a544b904",
   "metadata": {},
   "source": [
    "0.1779898933 on public leaderboard"
   ]
  },
  {
   "cell_type": "code",
   "execution_count": null,
   "id": "47c2ef33-a9cb-4206-9874-56ec0a813e64",
   "metadata": {},
   "outputs": [],
   "source": []
  }
 ],
 "metadata": {
  "kernelspec": {
   "display_name": "Python 3 (ipykernel)",
   "language": "python",
   "name": "python3"
  },
  "language_info": {
   "codemirror_mode": {
    "name": "ipython",
    "version": 3
   },
   "file_extension": ".py",
   "mimetype": "text/x-python",
   "name": "python",
   "nbconvert_exporter": "python",
   "pygments_lexer": "ipython3",
   "version": "3.8.10"
  }
 },
 "nbformat": 4,
 "nbformat_minor": 5
}
