{
 "cells": [
  {
   "cell_type": "code",
   "execution_count": 1,
   "id": "bcf76692-a4d7-4c5e-938b-3fcf72ce87c9",
   "metadata": {
    "tags": []
   },
   "outputs": [],
   "source": [
    "import pandas as pd\n",
    "import numpy as np\n",
    "from sklearn.preprocessing import OneHotEncoder\n",
    "from sklearn.preprocessing import StandardScaler\n",
    "from sklearn.linear_model import LogisticRegression\n",
    "from xgboost import XGBClassifier\n",
    "from sklearn.metrics import accuracy_score\n",
    "import matplotlib.pyplot as plt\n",
    "from collections import Counter\n",
    "import scipy.stats\n",
    "\n",
    "import warnings\n",
    "warnings.filterwarnings('ignore')"
   ]
  },
  {
   "cell_type": "code",
   "execution_count": 2,
   "id": "ba69db07-c5ed-44cf-b5f5-d11e7141beeb",
   "metadata": {},
   "outputs": [],
   "source": [
    "df = pd.read_csv('train.csv')\n",
    "df = df.sort_values('timestamp')\n",
    "df['timestamp'] = pd.to_datetime(df['timestamp'], format='%Y-%m-%d %H:%M:%S')"
   ]
  },
  {
   "cell_type": "markdown",
   "id": "e23a9525-6324-4b0e-9886-48b3e652b552",
   "metadata": {},
   "source": [
    "take last 2 months for validation  \n",
    "remove gate_id that I don't want to predict by model (I predicted it based on EDA)"
   ]
  },
  {
   "cell_type": "code",
   "execution_count": 3,
   "id": "1b6661f1-b92f-47f5-a22b-6f51209dc346",
   "metadata": {},
   "outputs": [],
   "source": [
    "df_train = df[df['timestamp'] < pd.to_datetime('2022-11-01')]\n",
    "df_test = df[df['timestamp'] >= pd.to_datetime('2022-11-01')]\n",
    "df_test = df_test[~(df_test['gate_id'].isin([14,1,-1]))]"
   ]
  },
  {
   "cell_type": "code",
   "execution_count": 4,
   "id": "faafdc58-7a5c-4b88-8d3b-bc83de9e96d6",
   "metadata": {},
   "outputs": [],
   "source": [
    "def get_feats(df):\n",
    "    # time features\n",
    "    df['timestamp'] = pd.to_datetime(df['timestamp'], format='%Y-%m-%d %H:%M:%S')\n",
    "    df['hour'] = df['timestamp'].dt.hour\n",
    "    df['minute'] = df['timestamp'].dt.minute\n",
    "    df['second'] = df['timestamp'].dt.second\n",
    "    df['date'] = df['timestamp'].apply(lambda x: str(x)[:10])\n",
    "    df['start_month'] = (df[\"timestamp\"].dt.is_month_start).astype('int') \n",
    "    df['end_month'] = (df[\"timestamp\"].dt.is_month_end).astype('int') \n",
    "    # get previous timestamps\n",
    "    df['timestamp_prev'] = df['timestamp'].shift(1)\n",
    "    df['timestamp_prev2'] = df['timestamp'].shift(2)\n",
    "    df['timestamp_prev3'] = df['timestamp'].shift(3)\n",
    "    df['timestamp_prev4'] = df['timestamp'].shift(4)\n",
    "    df['timestamp_prev5'] = df['timestamp'].shift(5)\n",
    "    # get previous gates\n",
    "    df['prev_gate_id'] = df['gate_id'].shift(1).fillna(-2)\n",
    "    df['prev2_gate_id'] = df['gate_id'].shift(2).fillna(-2)\n",
    "    df['prev3_gate_id'] = df['gate_id'].shift(3).fillna(-2)\n",
    "    df['prev4_gate_id'] = df['gate_id'].shift(4).fillna(-2)\n",
    "    df['prev5_gate_id'] = df['gate_id'].shift(5).fillna(-2)\n",
    "    # get min, max, first, last, moda and cnt gates        \n",
    "    tmp = df.groupby(['date'])['gate_id'].min().reset_index()\n",
    "    tmp=tmp.rename({'gate_id':'min_gate_id'},axis=1)\n",
    "    df = df.merge(tmp, how='left', on=['date'])\n",
    "    tmp = df.groupby(['date'])['gate_id'].max().reset_index()\n",
    "    tmp=tmp.rename({'gate_id':'max_gate_id'},axis=1)\n",
    "    df = df.merge(tmp, how='left', on=['date'])\n",
    "    tmp = df.groupby(['date'])['gate_id'].first().reset_index()\n",
    "    tmp=tmp.rename({'gate_id':'first_gate_id'},axis=1)\n",
    "    df = df.merge(tmp, how='left', on=['date'])\n",
    "    tmp = df.groupby(['date'])['gate_id'].last().reset_index()\n",
    "    tmp=tmp.rename({'gate_id':'last_gate_id'},axis=1)\n",
    "    df = df.merge(tmp, how='left', on=['date'])\n",
    "    tmp = df.groupby(['date'])['gate_id'].agg(lambda x: x.value_counts().index[0]).reset_index()\n",
    "    tmp=tmp.rename({'gate_id':'moda_gate_id'},axis=1)\n",
    "    df = df.merge(tmp, how='left', on=['date'])\n",
    "    df['min_gate_id'] = (df['gate_id'] == df['min_gate_id']).astype(int)\n",
    "    df['max_gate_id'] = (df['gate_id'] == df['max_gate_id']).astype(int)\n",
    "    df['first_gate_id'] = (df['gate_id'] == df['first_gate_id']).astype(int)\n",
    "    df['last_gate_id'] = (df['gate_id'] == df['last_gate_id']).astype(int)\n",
    "    df['moda_gate_id'] = (df['gate_id'] == df['moda_gate_id']).astype(int)\n",
    "    tmp = df.groupby(['date','gate_id']).size().reset_index()\n",
    "    tmp=tmp.rename({0:'cnt_gateday'},axis=1)\n",
    "    df = df.merge(tmp, how='left', on=['date','gate_id'])\n",
    "    # get same gates with previous\n",
    "    df['same_gate_id'] = (df['gate_id'] == df['prev_gate_id']).astype('int')   \n",
    "    df['same2_gate_id'] = (df['gate_id'] == df['prev2_gate_id']).astype('int')   \n",
    "    df['same3_gate_id'] = (df['gate_id'] == df['prev3_gate_id']).astype('int')\n",
    "    df['same4_gate_id'] = (df['gate_id'] == df['prev4_gate_id']).astype('int')   \n",
    "    df['same5_gate_id'] = (df['gate_id'] == df['prev5_gate_id']).astype('int') \n",
    "    # get delta timestamps\n",
    "    df['delta'] = df['timestamp_prev'] - df['timestamp']\n",
    "    df['delta2'] = df['timestamp_prev2'] - df['timestamp']\n",
    "    df['delta3'] = df['timestamp_prev3'] - df['timestamp']\n",
    "    df['delta4'] = df['timestamp_prev4'] - df['timestamp']\n",
    "    df['delta5'] = df['timestamp_prev5'] - df['timestamp']\n",
    "    df['delta_days'] = df['delta'].dt.days.fillna(0)\n",
    "    df['delta_hours'] = (df['delta'].dt.seconds // 3600).fillna(0)\n",
    "    df['delta_minutes'] = (df['delta'].dt.seconds // 60 - (df['delta'].dt.seconds // 3600 * 60)).fillna(0)\n",
    "    df['delta_seconds'] = (df['delta'].dt.seconds).fillna(0)\n",
    "    df['delta_seconds2'] = (df['delta2'].dt.seconds).fillna(0)\n",
    "    df['delta_seconds3'] = (df['delta3'].dt.seconds).fillna(0)\n",
    "    df['delta_seconds4'] = (df['delta4'].dt.seconds).fillna(0)\n",
    "    df['delta_seconds5'] = (df['delta5'].dt.seconds).fillna(0)\n",
    "    df['delta_seconds_0'] = (df['delta_seconds'] == 0).astype(int)\n",
    "    df['delta_seconds_3'] = (df['delta_seconds'] <= 3).astype(int)\n",
    "    df['delta_seconds_86000'] = (df['delta_seconds'] > 86000).astype(int) # a lot of counts with this number of seconds\n",
    "    df['delta_seconds3_86000'] = (df['delta_seconds3'] > 86000).astype(int) \n",
    "    df['morning'] = ((df['hour'] >= 6) & (df['hour'] < 12)).astype(int)\n",
    "    df['evening'] = ((df['hour'] >= 18) & (df['hour'] <= 23)).astype(int)\n",
    "    df['minute15'] = (df['minute'] <= 15).astype(int)\n",
    "    df['minute45'] = (df['minute'] >= 45).astype(int)\n",
    "    df['delta_minutes45'] = (df['delta_minutes'] > 45).astype(int)\n",
    "    df['2days'] = (df[\"timestamp\"].dt.dayofyear % 4).apply(lambda x: 1 if x in (1, 2) else 0) # 2-2 work\n",
    "    # get other timestamp features\n",
    "    df['day'] = df['timestamp'].dt.day\n",
    "    df['dayofweek'] = df['timestamp'].dt.dayofweek\n",
    "    df['last_week'] = (df['day'] >= 30).astype('int') \n",
    "    df['first_week'] = (df['day'] <= 5).astype('int')       \n",
    "    df['weekend'] = df['dayofweek'].isin([6,7]).astype('int')\n",
    "    df['weekend'] = np.where(df['date'] == '2022-11-05',0,df['weekend'])\n",
    "    df['holiday'] = (df['date'].isin(['2022-09-12','2022-11-25','2023-01-16'])).astype(int)\n",
    "    df['holiday'] = np.where(df['date'] > '2023-02-02',1,df['holiday'])\n",
    "    df['holiday'] = np.where(((df['date'] > '2022-11-07') & (df['date'] < '2022-11-17')).astype(int),1,df['holiday'])\n",
    "    df['weekend'] = (df['weekend'] | df['holiday']).astype(int) # union holiday and weekend\n",
    "    enc = OneHotEncoder()\n",
    "    enc.fit(df[['dayofweek']])\n",
    "    days = pd.DataFrame(enc.transform(df[['dayofweek']]).toarray())\n",
    "    days.columns = ['Monday','Tuesday','Wednesday','Thursday','Friday','Saturday','Sunday']\n",
    "    days.index = df.index\n",
    "    df = df.join(days)\n",
    "    # get gates patterns\n",
    "    df['3_4_7_10_11'] = (df['gate_id'].isin([3,4,7,10,11])).astype(int)\n",
    "    df['4_5_7_10_11'] = (df['gate_id'].isin([5,4,7,10,11])).astype(int)\n",
    "    df['3_4'] = ((df['gate_id'] == 3) & (df['prev_gate_id'] == 4)).astype(int)\n",
    "    df['10_11'] = ((df['gate_id'] == 10) & (df['prev_gate_id'] == 11)).astype(int)\n",
    "    df['4_5'] = ((df['gate_id'] == 4) & (df['prev_gate_id'] == 5)).astype(int)\n",
    "    # get binary for each gate, hour, prev_gate, delta_hour   \n",
    "    for i in range(-1,17):\n",
    "        df[f'gate_{i}'] = (df['gate_id'] == i).astype('int')        \n",
    "    for i in range(7,24):\n",
    "        df[f'hour_{i}'] = (df['hour'] == i).astype('int')\n",
    "    for i in range(-1,17):\n",
    "        df[f'prev_gate_{i}'] = (df['prev_gate_id'] == i).astype('int') \n",
    "    for i in range(-1,17):\n",
    "        df[f'prev2_gate_{i}'] = (df['prev2_gate_id'] == i).astype('int') \n",
    "    for i in range(24):\n",
    "        df[f'delta_hours_{i}'] = (df['delta_hours'] == i).astype('int')\n",
    "    # get more timestamp lags          \n",
    "    df[\"lag\"] = ((df[\"timestamp\"] - df[\"timestamp_prev\"]) / np.timedelta64(1, \"s\")).apply(lambda x: 1 if x < 2 else 0)\n",
    "    df[\"l3s\"] = ((df[\"timestamp\"] - df[\"timestamp_prev\"]) / np.timedelta64(1, \"s\")).apply(lambda x: 1 if x <= 3 else 0)\n",
    "    df[\"l-1\"] = df[\"l3s\"].shift(-1)\n",
    "    df.loc[(df[\"l3s\"] == 1) | (df[\"l-1\"] == 1), \"ls1\"] = 1\n",
    "    df[\"lag1\"] = ((df[\"timestamp\"] - df[\"timestamp_prev\"]) / np.timedelta64(1, \"s\")).apply(lambda x: 1 if 6 > x > 2 else 0)\n",
    "    df[\"lag2\"] = ((df[\"timestamp\"] - df[\"timestamp_prev\"]) / np.timedelta64(1, \"s\")).apply(lambda x: 1 if 15 > x >= 6 else 0)\n",
    "    df[\"lag3\"] = ((df[\"timestamp\"] - df[\"timestamp_prev\"]) / np.timedelta64(1, \"s\")).apply(lambda x: 1 if 22 > x >= 15 else 0)\n",
    "    df[\"lag4\"] = ((df[\"timestamp\"] - df[\"timestamp_prev\"]) / np.timedelta64(1, \"s\")).apply(lambda x: 1 if 32 > x >= 22 else 0)\n",
    "    df[\"lag5\"] = ((df[\"timestamp\"] - df[\"timestamp_prev\"]) / np.timedelta64(1, \"s\")).apply(lambda x: 1 if 42 > x > 32 else 0)\n",
    "    df[\"lag6\"] = ((df[\"timestamp\"] - df[\"timestamp_prev\"]) / np.timedelta64(1, \"s\")).apply(lambda x: 1 if 58 > x >= 42 else 0)\n",
    "    df[\"lag7\"] = ((df[\"timestamp\"] - df[\"timestamp_prev\"]) / np.timedelta64(1, \"s\")).apply(lambda x: 1 if 69 > x >= 58 else 0)\n",
    "    df[\"lag8\"] = ((df[\"timestamp\"] - df[\"timestamp_prev\"]) / np.timedelta64(1, \"s\")).apply(lambda x: 1 if 76 > x >= 69 else 0)\n",
    "    df[\"lag9\"] = ((df[\"timestamp\"] - df[\"timestamp_prev\"]) / np.timedelta64(1, \"s\")).apply(lambda x: 1 if 130 >= x > 127 else 0)\n",
    "    df[\"lag0\"] = ((df[\"timestamp\"] - df[\"timestamp_prev\"]) / np.timedelta64(1, \"s\")).apply(lambda x: 0 if x > 69 else x)\n",
    "    df[\"lagx\"] = ((df[\"timestamp\"] - df[\"timestamp_prev\"]) / np.timedelta64(1, \"s\")).apply(lambda x: 1 if x > 130 else 0)\n",
    "    # get more same gates\n",
    "    df[\"double\"] = ((df[\"gate_id\"] == df['prev_gate_id']) & (df[\"ls1\"] == 1) | (df[\"gate_id\"] == df['prev2_gate_id'])).astype('int') \n",
    "    df[\"double2\"] = ((df[\"gate_id\"] == df[\"prev_gate_id\"]) & (df[\"lag\"] == 0) | (df[\"gate_id\"] == df[\"prev2_gate_id\"])).astype('int')\n",
    "    df[\"double3\"] = ((df[\"gate_id\"] == df[\"prev_gate_id\"]) & (df[\"lag1\"] == 1) | (df[\"gate_id\"] == df[\"prev2_gate_id\"])).astype('int')\n",
    "    df[\"double4\"] = ((df[\"gate_id\"] == df[\"prev_gate_id\"]) & (df[\"lag2\"] == 1) | (df[\"gate_id\"] == df[\"prev2_gate_id\"])).astype('int')\n",
    "    df[\"double5\"] = ((df[\"gate_id\"] == df[\"prev_gate_id\"]) & (df[\"lag3\"] == 1) | (df[\"gate_id\"] == df[\"prev2_gate_id\"])).astype('int')\n",
    "    df[\"double6\"] = ((df[\"gate_id\"] == df[\"prev_gate_id\"]) & (df[\"lag4\"] == 1) | (df[\"gate_id\"] == df[\"prev2_gate_id\"])).astype('int')\n",
    "    df[\"double7\"] = ((df[\"gate_id\"] == df[\"prev_gate_id\"]) & (df[\"lag7\"] == 1) | (df[\"gate_id\"] == df[\"prev2_gate_id\"])).astype('int')\n",
    "    df[\"double8\"] = ((df[\"gate_id\"] == df[\"prev_gate_id\"]) & (df[\"lagx\"] == 1) | (df[\"gate_id\"] == df[\"prev2_gate_id\"])).astype('int')\n",
    "    # get more gate patterns\n",
    "    # 10-3-3\n",
    "    df.loc[((df[\"gate_id\"]==10) & (df['prev_gate_id']==3) & (df['prev2_gate_id']==3)) |\n",
    "        ((df[\"gate_id\"]==10) & (df['prev_gate_id']==3) & (df['prev3_gate_id']==3)) |\n",
    "        ((df[\"gate_id\"]==10) & (df['prev2_gate_id']==3) & (df['prev3_gate_id']==3)) |\n",
    "        ((df[\"gate_id\"]==10) & (df['prev_gate_id']==3) & (df['prev4_gate_id']==3)) |\n",
    "        ((df[\"gate_id\"]==10) & (df['prev2_gate_id']==3) & (df['prev4_gate_id']==3)) |\n",
    "        ((df[\"gate_id\"]==10) & (df['prev_gate_id']==3) & (df['prev5_gate_id']==3) & (df[\"ls1\"]==1)), \"10_3_3\"] = 1\n",
    "    # 11-4-4\n",
    "    df.loc[((df[\"gate_id\"]==11) & (df['prev_gate_id']==4) & (df['prev2_gate_id']==4)) |\n",
    "        ((df[\"gate_id\"]==11) & (df['prev_gate_id']==4) & (df['prev3_gate_id']==4)) |\n",
    "        ((df[\"gate_id\"]==11) & (df['prev2_gate_id']==4) & (df['prev3_gate_id']==4)) |\n",
    "        ((df[\"gate_id\"]==11) & (df['prev_gate_id']==4) & (df['prev4_gate_id']==4)) |\n",
    "        ((df[\"gate_id\"]==11) & (df['prev2_gate_id']==4) & (df['prev4_gate_id']==4)) |\n",
    "        ((df[\"gate_id\"]==11) & (df['prev_gate_id']==4) & (df['prev5_gate_id']==4) & (df[\"ls1\"]==1)), \"11_4_4\"] = 1 \n",
    "    df['7_9_5_10'] = (df['gate_id'].isin([7,9,5,10])).astype(int)\n",
    "    df['9_5_10'] = (df['gate_id'].isin([9,5,10])).astype(int) \n",
    "    # 3-11-4     \n",
    "    df.loc[((df[\"gate_id\"]==3) & (df['prev_gate_id']==11) & (df['prev2_gate_id']==4)) |\n",
    "        ((df[\"gate_id\"]==3) & (df['prev_gate_id']==11) & (df['prev3_gate_id']==4)) |\n",
    "        ((df[\"gate_id\"]==3) & (df['prev2_gate_id']==11) & (df['prev3_gate_id']==4)) |\n",
    "        ((df[\"gate_id\"]==3) & (df['prev_gate_id']==11) & (df['prev4_gate_id']==4)) |\n",
    "        ((df[\"gate_id\"]==3) & (df['prev2_gate_id']==11) & (df['prev4_gate_id']==4)) |\n",
    "        ((df[\"gate_id\"]==3) & (df['prev_gate_id']==11) & (df['prev5_gate_id']==4) & (df[\"ls1\"]==1)), \"3_11_4\"] = 1\n",
    "    # get previous gate without fillna -2\n",
    "    df[\"gs1\"] = df[\"gate_id\"].shift(1) \n",
    "    df[\"gs2\"] = df[\"gate_id\"].shift(2)\n",
    "    df[\"gs3\"] = df[\"gate_id\"].shift(3)\n",
    "    df[\"gs4\"] = df[\"gate_id\"].shift(4)\n",
    "    df[\"gs5\"] = df[\"gate_id\"].shift(5)\n",
    "    # get next gate\n",
    "    df[\"gs-1\"] = df[\"gate_id\"].shift(-1)\n",
    "    df[\"gs-2\"] = df[\"gate_id\"].shift(-2)\n",
    "    df[\"gs-3\"] = df[\"gate_id\"].shift(-3)\n",
    "    df[\"gs-4\"] = df[\"gate_id\"].shift(-4)\n",
    "    df[\"gs-5\"] = df[\"gate_id\"].shift(-5)  \n",
    "    # 11-4-4 other realisation\n",
    "    df.loc[(df[\"gate_id\"].eq(11) & df[\"gs-1\"].eq(4) & df[\"gs-2\"].eq(4)) |\n",
    "             (df[\"gate_id\"].eq(4) & df[\"gs1\"].eq(11) & df[\"gs-1\"].eq(4) & df[\"ls1\"].eq(1)) |\n",
    "             (df[\"gate_id\"].eq(4) & df[\"gs1\"].eq(4) & df[\"gs2\"].eq(11) & df[\"ls1\"].eq(1)) |\n",
    "             (df[\"gate_id\"].eq(11) & df[\"gs-2\"].eq(4) & df[\"gs-3\"].eq(4)) |\n",
    "             (df[\"gate_id\"].eq(4) & df[\"gs2\"].eq(11) & df[\"gs-1\"].eq(4) & df[\"ls1\"].eq(1)) |\n",
    "             (df[\"gate_id\"].eq(4) & df[\"gs1\"].eq(4) & df[\"gs3\"].eq(11) & df[\"ls1\"].eq(1)) |\n",
    "             (df[\"gate_id\"].eq(11) & df[\"gs-1\"].eq(4) & df[\"gs-3\"].eq(4)) |\n",
    "             (df[\"gate_id\"].eq(4) & df[\"gs1\"].eq(11) & df[\"gs-2\"].eq(4) & df[\"ls1\"].eq(1)) |\n",
    "             (df[\"gate_id\"].eq(4) & df[\"gs2\"].eq(4) & df[\"gs3\"].eq(11) & df[\"ls1\"].eq(1)) |\n",
    "             (df[\"gate_id\"].eq(11) & df[\"gs-3\"].eq(4) & df[\"gs-4\"].eq(4)) |\n",
    "             (df[\"gate_id\"].eq(4) & df[\"gs3\"].eq(11) & df[\"gs-1\"].eq(4) & df[\"ls1\"].eq(1)) |\n",
    "             (df[\"gate_id\"].eq(4) & df[\"gs1\"].eq(4) & df[\"gs4\"].eq(11) & df[\"ls1\"].eq(1)) |\n",
    "             (df[\"gate_id\"].eq(11) & df[\"gs-2\"].eq(4) & df[\"gs-4\"].eq(4)) |\n",
    "             (df[\"gate_id\"].eq(4) & df[\"gs2\"].eq(11) & df[\"gs-2\"].eq(4) & df[\"ls1\"].eq(1)) |\n",
    "             (df[\"gate_id\"].eq(4) & df[\"gs2\"].eq(4) & df[\"gs4\"].eq(11) & df[\"ls1\"].eq(1)) |\n",
    "             (df[\"gate_id\"].eq(11) & df[\"gs-1\"].eq(4) & df[\"gs-4\"].eq(4)) |\n",
    "             (df[\"gate_id\"].eq(4) & df[\"gs1\"].eq(11) & df[\"gs-3\"].eq(4) & df[\"ls1\"].eq(1)) |\n",
    "             (df[\"gate_id\"].eq(4) & df[\"gs3\"].eq(4) & df[\"gs4\"].eq(11) & df[\"ls1\"].eq(1)), \"1144\"] = 1\n",
    "    # 7-3-3-10\n",
    "    df[\"73310\"] = df[\"gate_id\"][(df[\"gate_id\"].eq(7) & df[\"gs-1\"].eq(3) & df[\"gs-2\"].eq(3) & df[\"gs-3\"].eq(10)) |\n",
    "                                   (df[\"gate_id\"].eq(3) & df[\"gs1\"].eq(7) & df[\"gs-1\"].eq(3) & df[\"gs-2\"].eq(10)) |\n",
    "                                   (df[\"gate_id\"].eq(3) & df[\"gs1\"].eq(3) & df[\"gs2\"].eq(7) & df[\"gs-1\"].eq(10)) |\n",
    "                                   (df[\"gate_id\"].eq(10) & df[\"gs1\"].eq(3) & df[\"gs2\"].eq(3) & df[\"gs3\"].eq(7))].apply(lambda x: 1 if x >= 1 else 0)\n",
    "    # 9-5-10-3\n",
    "    df[\"95103\"] = df[\"gate_id\"][(df[\"gate_id\"].eq(9) & df[\"gs-1\"].eq(5) & df[\"gs-2\"].eq(10) & df[\"gs-3\"].eq(3)) |\n",
    "                                   (df[\"gate_id\"].eq(5) & df[\"gs1\"].eq(9) & df[\"gs-1\"].eq(10) & df[\"gs-2\"].eq(3)) |\n",
    "                                   (df[\"gate_id\"].eq(10) & df[\"gs1\"].eq(5) & df[\"gs2\"].eq(9) & df[\"gs-1\"].eq(3)) |\n",
    "                                   (df[\"gate_id\"].eq(3) & df[\"gs1\"].eq(10) & df[\"gs2\"].eq(5) & df[\"gs3\"].eq(9))].apply(lambda x: 1 if x >= 1 else 0)\n",
    "\n",
    "    # binary for each next gate_id\n",
    "    for i in range(-1,17):\n",
    "        df[f'gs1_{i}'] = (df['gs-1'] == i).astype('int')\n",
    "    \n",
    "    \n",
    "    return df"
   ]
  },
  {
   "cell_type": "code",
   "execution_count": 5,
   "id": "325d5795-f585-4ca7-bc98-0671ef3b6e4f",
   "metadata": {},
   "outputs": [],
   "source": [
    "# users that have small or old history\n",
    "very_wrong_user = [4,20,31,38,44,51,52]\n",
    "not_in_user = [13,16]\n",
    "wrong_user = [4,5,7,8,10,20,21,30,31,38,40,42,44,45,51,52,57]"
   ]
  },
  {
   "cell_type": "code",
   "execution_count": 6,
   "id": "2faca615-5b84-4b59-be8c-2fe2f396304a",
   "metadata": {},
   "outputs": [],
   "source": [
    "df_train = get_feats(df_train)\n",
    "df_test = get_feats(df_test)"
   ]
  },
  {
   "cell_type": "code",
   "execution_count": 7,
   "id": "d838b5cc-6ae6-44da-98ad-3433c9f12d00",
   "metadata": {},
   "outputs": [],
   "source": [
    "cols_scale = ['row_id','10_3_3','73310','minute','second',\n",
    "         'delta_seconds2','delta_seconds3','delta_seconds4','delta_seconds5',\n",
    "         'ls1','11_4_4','gs-2','gs-4',\"gs1\",'gs2','gs3',]"
   ]
  },
  {
   "cell_type": "code",
   "execution_count": 8,
   "id": "ec0071c4-6a6c-4a7c-aa88-39321cd7fcfb",
   "metadata": {},
   "outputs": [],
   "source": [
    "scaler = StandardScaler()\n",
    "scaler.fit(df_train[cols_scale])\n",
    "df_train[cols_scale] = scaler.transform(df_train[cols_scale])\n",
    "df_test[cols_scale] = scaler.transform(df_test[cols_scale])"
   ]
  },
  {
   "cell_type": "code",
   "execution_count": 9,
   "id": "5ba3a6fb-6d42-49b2-b354-8110ff531099",
   "metadata": {},
   "outputs": [],
   "source": [
    "cols = ['row_id','hour','minute','second','start_month','end_month','min_gate_id','max_gate_id','first_gate_id','last_gate_id','moda_gate_id',\n",
    "         'cnt_gateday','same_gate_id','same2_gate_id','same3_gate_id','same4_gate_id','same5_gate_id','dayofweek',\n",
    "         'delta_minutes','delta_seconds','delta_seconds2','delta_seconds3','delta_seconds4','delta_seconds5','day',\n",
    "         'last_week','first_week','weekend','3_4_7_10_11','4_5_7_10_11','3_4','10_11','4_5','delta_seconds_0',\n",
    "         'delta_seconds_86000','morning','evening','minute15','minute45','delta_minutes45','2days','Monday','Tuesday','Wednesday',\n",
    "         'Thursday','Friday','Saturday','gate_3', 'gate_4', 'gate_5', 'gate_6', 'gate_7', 'gate_8', 'gate_9','gate_10', 'gate_11', \n",
    "         'gate_12','gate_13', 'gate_15','hour_7', 'hour_8', 'hour_9', 'hour_10','hour_11', 'hour_12', 'hour_13', 'hour_14', 'hour_15', \n",
    "         'hour_16','hour_17', 'hour_18', 'hour_19','hour_20', 'hour_21', 'hour_22','hour_23','prev_gate_3', 'prev_gate_4', 'prev_gate_5',\n",
    "         'prev_gate_6', 'prev_gate_7', 'prev_gate_8', 'prev_gate_9','prev_gate_10', 'prev_gate_11', 'prev_gate_12', 'prev_gate_13',\n",
    "         'prev_gate_15','prev2_gate_3', 'prev2_gate_4', 'prev2_gate_5', 'prev2_gate_6', 'prev2_gate_7',\n",
    "         'prev2_gate_8', 'prev2_gate_9','prev2_gate_10', 'prev2_gate_11', 'prev2_gate_12', 'prev2_gate_13', 'prev2_gate_15',\n",
    "         'delta_hours_0','delta_hours_1','delta_hours_2','delta_hours_3','delta_hours_4',\n",
    "         'delta_hours_5','delta_hours_6','delta_hours_7','delta_hours_8','delta_hours_9','delta_hours_10','delta_hours_11',\n",
    "         'delta_hours_12','delta_hours_13','delta_hours_14','delta_hours_15','delta_hours_16','delta_hours_17','delta_hours_18',\n",
    "         'delta_hours_19','delta_hours_20','delta_hours_21','delta_hours_22','delta_hours_23','lag','l3s','l-1','ls1','lag1','lag2','lag3',\n",
    "         'lag4','lag5','lag6','lag7','lag8','lag9','lag0','lagx','double','double2','double3','double4','double5','double6','double7',\n",
    "         'double8','10_3_3','11_4_4','7_9_5_10','9_5_10','delta_seconds3_86000','gs-1','gs-2','gs-3','gs-4',\n",
    "         'gs-5','1144','73310','gs1_3','gs1_4','gs1_5','gs1_6','gs1_7','gs1_8','gs1_9','gs1_10','gs1_11',\n",
    "         'gs1_12','gs1_13','gs1_14','gs1_15','gs1_16',\"gs1\",'gs2','gs3','gs4','gs5',\"3_11_4\"]"
   ]
  },
  {
   "cell_type": "code",
   "execution_count": 10,
   "id": "0e01461e-a403-44f7-9947-01b41368d11c",
   "metadata": {},
   "outputs": [],
   "source": [
    "# drop strange users\n",
    "df_train = df_train[~(df_train['user_id'].isin(wrong_user))]\n",
    "df_test = df_test[~(df_test['user_id'].isin(wrong_user))]\n",
    "df_test = df_test[~(df_test['user_id'].isin([2,41,43]))]"
   ]
  },
  {
   "cell_type": "code",
   "execution_count": 11,
   "id": "c5901a7f-3d05-4057-81b2-e7142532433e",
   "metadata": {},
   "outputs": [],
   "source": [
    "d = {0:0, 1:1, 3:2,  6:3,  9:4, 11:5, 12:6, 14:7, 15:8, 17:9, 18:10, 19:11, 22:12, 23:13, 24:14, 25:15, 26:16, 27:17, 28:18, 29:19,\n",
    "     32:20, 33:21, 34:22, 35:23,36:24, 37:25, 39:26, 46:27, 47:28, 48:29, 49:30, 50:31, 53:32, 54:33, 55:34, 56:35}\n",
    "y_train = df_train['user_id'].map(d)\n",
    "y_test = df_test['user_id'].map(d)"
   ]
  },
  {
   "cell_type": "code",
   "execution_count": 12,
   "id": "df05b284-8c5c-405e-84b1-e75650dc5127",
   "metadata": {},
   "outputs": [
    {
     "data": {
      "text/plain": [
       "(90.41767100011855, 18.716006216006217)"
      ]
     },
     "execution_count": 12,
     "metadata": {},
     "output_type": "execute_result"
    }
   ],
   "source": [
    "clf = XGBClassifier(objective='multi:softmax', \n",
    "                            gamma=0.1,\n",
    "                            learning_rate=0.1,\n",
    "                            max_depth=7,\n",
    "                            reg_lambda=0.5,\n",
    "                            subsample=0.8, \n",
    "                            eval_metric=['merror'],\n",
    "                            seed=42)\n",
    "clf.fit(df_train[cols].fillna(0), y_train)\n",
    "accuracy_score(y_train, clf.predict(df_train[cols].fillna(0))) * 100,\\\n",
    "accuracy_score(y_test, clf.predict(df_test[cols].fillna(0))) * 100"
   ]
  },
  {
   "cell_type": "code",
   "execution_count": 13,
   "id": "27ef21ca-3fd9-4457-825a-1f1a83702e7b",
   "metadata": {},
   "outputs": [
    {
     "data": {
      "text/plain": [
       "(90.41767100011855, 18.716006216006217)"
      ]
     },
     "execution_count": 13,
     "metadata": {},
     "output_type": "execute_result"
    }
   ],
   "source": [
    "(90.41767100011855, 18.716006216006217)"
   ]
  },
  {
   "cell_type": "code",
   "execution_count": 14,
   "id": "76300d7c-39e4-44c5-be44-2673c6a97888",
   "metadata": {},
   "outputs": [],
   "source": [
    "# check if without i column metric is higher\n",
    "# for i in cols:\n",
    "#     clf.fit(df_train[cols].fillna(0).drop(i, axis=1), y_train)\n",
    "#     score_train = accuracy_score(y_train, clf.predict(df_train[cols].fillna(0).drop(i, axis=1))) * 100\n",
    "#     score_val = accuracy_score(y_test, clf.predict(df_test[cols].fillna(0).drop(i, axis=1))) * 100\n",
    "#     if score_val >= 18.6:\n",
    "#         print(i, score_train, score_val)\n",
    "#     else:\n",
    "#         print(i)    "
   ]
  },
  {
   "cell_type": "markdown",
   "id": "46b69a2c-2f22-480e-80d1-b7c519dcf017",
   "metadata": {},
   "source": [
    "# all model"
   ]
  },
  {
   "cell_type": "code",
   "execution_count": 15,
   "id": "511f9c31-d748-426b-803b-dbf38a94d30b",
   "metadata": {},
   "outputs": [],
   "source": [
    "df = get_feats(df)"
   ]
  },
  {
   "cell_type": "code",
   "execution_count": 16,
   "id": "29431a0a-5edd-4b46-80cb-fc531621a7c1",
   "metadata": {},
   "outputs": [],
   "source": [
    "scaler = StandardScaler()\n",
    "scaler.fit(df[cols_scale])\n",
    "df[cols_scale] = scaler.transform(df[cols_scale])"
   ]
  },
  {
   "cell_type": "code",
   "execution_count": 17,
   "id": "7b7851df-da01-421e-beef-e0d35ed65d91",
   "metadata": {
    "tags": []
   },
   "outputs": [],
   "source": [
    "df = df[~(df['user_id'].isin(wrong_user))]"
   ]
  },
  {
   "cell_type": "code",
   "execution_count": 18,
   "id": "fbf55c27-ec8b-47d5-aa8f-15bcd686479b",
   "metadata": {},
   "outputs": [],
   "source": [
    "d1 = {0:0, 1:1, 2:2, 3:3,  6:4,  9:5, 11:6, 12:7, 14:8, 15:9, 17:10, 18:11, 19:12, 22:13, 23:14, 24:15, 25:16, 26:17, 27:18, 28:19, 29:20,\n",
    "     32:21, 33:22, 34:23, 35:24,36:25, 37:26, 39:27,41:28,43:29, 46:30, 47:31, 48:32, 49:33, 50:34, 53:35, 54:36, 55:37, 56:38}\n",
    "y = df['user_id'].map(d1)"
   ]
  },
  {
   "cell_type": "code",
   "execution_count": 19,
   "id": "3eb77e53-adb3-4cbf-9355-1a9cb1f03240",
   "metadata": {},
   "outputs": [
    {
     "data": {
      "text/html": [
       "<style>#sk-container-id-1 {color: black;background-color: white;}#sk-container-id-1 pre{padding: 0;}#sk-container-id-1 div.sk-toggleable {background-color: white;}#sk-container-id-1 label.sk-toggleable__label {cursor: pointer;display: block;width: 100%;margin-bottom: 0;padding: 0.3em;box-sizing: border-box;text-align: center;}#sk-container-id-1 label.sk-toggleable__label-arrow:before {content: \"▸\";float: left;margin-right: 0.25em;color: #696969;}#sk-container-id-1 label.sk-toggleable__label-arrow:hover:before {color: black;}#sk-container-id-1 div.sk-estimator:hover label.sk-toggleable__label-arrow:before {color: black;}#sk-container-id-1 div.sk-toggleable__content {max-height: 0;max-width: 0;overflow: hidden;text-align: left;background-color: #f0f8ff;}#sk-container-id-1 div.sk-toggleable__content pre {margin: 0.2em;color: black;border-radius: 0.25em;background-color: #f0f8ff;}#sk-container-id-1 input.sk-toggleable__control:checked~div.sk-toggleable__content {max-height: 200px;max-width: 100%;overflow: auto;}#sk-container-id-1 input.sk-toggleable__control:checked~label.sk-toggleable__label-arrow:before {content: \"▾\";}#sk-container-id-1 div.sk-estimator input.sk-toggleable__control:checked~label.sk-toggleable__label {background-color: #d4ebff;}#sk-container-id-1 div.sk-label input.sk-toggleable__control:checked~label.sk-toggleable__label {background-color: #d4ebff;}#sk-container-id-1 input.sk-hidden--visually {border: 0;clip: rect(1px 1px 1px 1px);clip: rect(1px, 1px, 1px, 1px);height: 1px;margin: -1px;overflow: hidden;padding: 0;position: absolute;width: 1px;}#sk-container-id-1 div.sk-estimator {font-family: monospace;background-color: #f0f8ff;border: 1px dotted black;border-radius: 0.25em;box-sizing: border-box;margin-bottom: 0.5em;}#sk-container-id-1 div.sk-estimator:hover {background-color: #d4ebff;}#sk-container-id-1 div.sk-parallel-item::after {content: \"\";width: 100%;border-bottom: 1px solid gray;flex-grow: 1;}#sk-container-id-1 div.sk-label:hover label.sk-toggleable__label {background-color: #d4ebff;}#sk-container-id-1 div.sk-serial::before {content: \"\";position: absolute;border-left: 1px solid gray;box-sizing: border-box;top: 0;bottom: 0;left: 50%;z-index: 0;}#sk-container-id-1 div.sk-serial {display: flex;flex-direction: column;align-items: center;background-color: white;padding-right: 0.2em;padding-left: 0.2em;position: relative;}#sk-container-id-1 div.sk-item {position: relative;z-index: 1;}#sk-container-id-1 div.sk-parallel {display: flex;align-items: stretch;justify-content: center;background-color: white;position: relative;}#sk-container-id-1 div.sk-item::before, #sk-container-id-1 div.sk-parallel-item::before {content: \"\";position: absolute;border-left: 1px solid gray;box-sizing: border-box;top: 0;bottom: 0;left: 50%;z-index: -1;}#sk-container-id-1 div.sk-parallel-item {display: flex;flex-direction: column;z-index: 1;position: relative;background-color: white;}#sk-container-id-1 div.sk-parallel-item:first-child::after {align-self: flex-end;width: 50%;}#sk-container-id-1 div.sk-parallel-item:last-child::after {align-self: flex-start;width: 50%;}#sk-container-id-1 div.sk-parallel-item:only-child::after {width: 0;}#sk-container-id-1 div.sk-dashed-wrapped {border: 1px dashed gray;margin: 0 0.4em 0.5em 0.4em;box-sizing: border-box;padding-bottom: 0.4em;background-color: white;}#sk-container-id-1 div.sk-label label {font-family: monospace;font-weight: bold;display: inline-block;line-height: 1.2em;}#sk-container-id-1 div.sk-label-container {text-align: center;}#sk-container-id-1 div.sk-container {/* jupyter's `normalize.less` sets `[hidden] { display: none; }` but bootstrap.min.css set `[hidden] { display: none !important; }` so we also need the `!important` here to be able to override the default hidden behavior on the sphinx rendered scikit-learn.org. See: https://github.com/scikit-learn/scikit-learn/issues/21755 */display: inline-block !important;position: relative;}#sk-container-id-1 div.sk-text-repr-fallback {display: none;}</style><div id=\"sk-container-id-1\" class=\"sk-top-container\"><div class=\"sk-text-repr-fallback\"><pre>XGBClassifier(base_score=None, booster=None, callbacks=None,\n",
       "              colsample_bylevel=None, colsample_bynode=None,\n",
       "              colsample_bytree=None, early_stopping_rounds=None,\n",
       "              enable_categorical=False, eval_metric=[&#x27;merror&#x27;],\n",
       "              feature_types=None, gamma=0.1, gpu_id=None, grow_policy=None,\n",
       "              importance_type=None, interaction_constraints=None,\n",
       "              learning_rate=0.1, max_bin=None, max_cat_threshold=None,\n",
       "              max_cat_to_onehot=None, max_delta_step=None, max_depth=7,\n",
       "              max_leaves=None, min_child_weight=None, missing=nan,\n",
       "              monotone_constraints=None, n_estimators=100, n_jobs=None,\n",
       "              num_parallel_tree=None, objective=&#x27;multi:softmax&#x27;, predictor=None, ...)</pre><b>In a Jupyter environment, please rerun this cell to show the HTML representation or trust the notebook. <br />On GitHub, the HTML representation is unable to render, please try loading this page with nbviewer.org.</b></div><div class=\"sk-container\" hidden><div class=\"sk-item\"><div class=\"sk-estimator sk-toggleable\"><input class=\"sk-toggleable__control sk-hidden--visually\" id=\"sk-estimator-id-1\" type=\"checkbox\" checked><label for=\"sk-estimator-id-1\" class=\"sk-toggleable__label sk-toggleable__label-arrow\">XGBClassifier</label><div class=\"sk-toggleable__content\"><pre>XGBClassifier(base_score=None, booster=None, callbacks=None,\n",
       "              colsample_bylevel=None, colsample_bynode=None,\n",
       "              colsample_bytree=None, early_stopping_rounds=None,\n",
       "              enable_categorical=False, eval_metric=[&#x27;merror&#x27;],\n",
       "              feature_types=None, gamma=0.1, gpu_id=None, grow_policy=None,\n",
       "              importance_type=None, interaction_constraints=None,\n",
       "              learning_rate=0.1, max_bin=None, max_cat_threshold=None,\n",
       "              max_cat_to_onehot=None, max_delta_step=None, max_depth=7,\n",
       "              max_leaves=None, min_child_weight=None, missing=nan,\n",
       "              monotone_constraints=None, n_estimators=100, n_jobs=None,\n",
       "              num_parallel_tree=None, objective=&#x27;multi:softmax&#x27;, predictor=None, ...)</pre></div></div></div></div></div>"
      ],
      "text/plain": [
       "XGBClassifier(base_score=None, booster=None, callbacks=None,\n",
       "              colsample_bylevel=None, colsample_bynode=None,\n",
       "              colsample_bytree=None, early_stopping_rounds=None,\n",
       "              enable_categorical=False, eval_metric=['merror'],\n",
       "              feature_types=None, gamma=0.1, gpu_id=None, grow_policy=None,\n",
       "              importance_type=None, interaction_constraints=None,\n",
       "              learning_rate=0.1, max_bin=None, max_cat_threshold=None,\n",
       "              max_cat_to_onehot=None, max_delta_step=None, max_depth=7,\n",
       "              max_leaves=None, min_child_weight=None, missing=nan,\n",
       "              monotone_constraints=None, n_estimators=100, n_jobs=None,\n",
       "              num_parallel_tree=None, objective='multi:softmax', predictor=None, ...)"
      ]
     },
     "execution_count": 19,
     "metadata": {},
     "output_type": "execute_result"
    }
   ],
   "source": [
    "clf = XGBClassifier(objective='multi:softmax', \n",
    "                            gamma=0.1, \n",
    "                            learning_rate=0.1,\n",
    "                            max_depth=7,\n",
    "                            reg_lambda=0.5,\n",
    "                            subsample=0.8, \n",
    "                            eval_metric=['merror'],\n",
    "                            seed=42)\n",
    "clf.fit(df[cols].fillna(0), y)"
   ]
  },
  {
   "cell_type": "code",
   "execution_count": 20,
   "id": "a249d7fb-bc4d-45bc-8b20-5dc4356bb99a",
   "metadata": {},
   "outputs": [],
   "source": [
    "test = pd.read_csv('test.csv')\n",
    "test = test.sort_values('timestamp')\n",
    "test['row_id_1'] = test['row_id'] # because standard scaller on row_id rewrite it\n",
    "test = get_feats(test)"
   ]
  },
  {
   "cell_type": "code",
   "execution_count": 21,
   "id": "54d5981d-69f2-4fd3-8e4f-6adfc6fcc683",
   "metadata": {},
   "outputs": [],
   "source": [
    "# based on EDA\n",
    "test['user_id'] = np.where(test['gate_id'] == 14, 12, 999)\n",
    "test['user_id'] = np.where(test['gate_id'] == 1, 25, test['user_id'])\n",
    "test['user_id'] = np.where(test['gate_id'] == -1, 46, test['user_id'])"
   ]
  },
  {
   "cell_type": "code",
   "execution_count": 22,
   "id": "7c03f795-c923-4fb2-a38c-2e78911613e4",
   "metadata": {},
   "outputs": [],
   "source": [
    "test[cols_scale] = scaler.transform(test[cols_scale])\n",
    "pred = clf.predict(test[cols].fillna(0))\n",
    "test['pred'] = pred\n",
    "test['pred'] = test['pred'].map({i:j for i,j in zip(d1.values(), d1.keys())})"
   ]
  },
  {
   "cell_type": "code",
   "execution_count": 23,
   "id": "80f28257-09a1-4daf-b9fc-8e331862732f",
   "metadata": {},
   "outputs": [],
   "source": [
    "test['row_id'] = test['row_id_1'] # return original row_id back"
   ]
  },
  {
   "cell_type": "code",
   "execution_count": 24,
   "id": "2caa63bb-29a9-4377-8791-e796c8650a89",
   "metadata": {},
   "outputs": [],
   "source": [
    "test['user_id'] = np.where(test['user_id'] == 999, test['pred'], test['user_id'])"
   ]
  },
  {
   "cell_type": "code",
   "execution_count": 25,
   "id": "a19d110f-a7b4-4ee2-b2b8-d5292e0e791e",
   "metadata": {},
   "outputs": [],
   "source": [
    "sub = pd.read_csv('sample_submission.csv')\n",
    "sub = sub.drop('target',axis=1).merge(test[['user_id','row_id']], how='left', on='row_id')\n",
    "sub.columns = ['row_id', 'target']"
   ]
  },
  {
   "cell_type": "code",
   "execution_count": 26,
   "id": "066fec62-b8be-4912-8cdb-35b666b42583",
   "metadata": {},
   "outputs": [
    {
     "data": {
      "text/html": [
       "<div>\n",
       "<style scoped>\n",
       "    .dataframe tbody tr th:only-of-type {\n",
       "        vertical-align: middle;\n",
       "    }\n",
       "\n",
       "    .dataframe tbody tr th {\n",
       "        vertical-align: top;\n",
       "    }\n",
       "\n",
       "    .dataframe thead th {\n",
       "        text-align: right;\n",
       "    }\n",
       "</style>\n",
       "<table border=\"1\" class=\"dataframe\">\n",
       "  <thead>\n",
       "    <tr style=\"text-align: right;\">\n",
       "      <th></th>\n",
       "      <th>row_id</th>\n",
       "      <th>target</th>\n",
       "    </tr>\n",
       "  </thead>\n",
       "  <tbody>\n",
       "    <tr>\n",
       "      <th>0</th>\n",
       "      <td>37518</td>\n",
       "      <td>3</td>\n",
       "    </tr>\n",
       "    <tr>\n",
       "      <th>1</th>\n",
       "      <td>37519</td>\n",
       "      <td>3</td>\n",
       "    </tr>\n",
       "    <tr>\n",
       "      <th>2</th>\n",
       "      <td>37520</td>\n",
       "      <td>3</td>\n",
       "    </tr>\n",
       "    <tr>\n",
       "      <th>3</th>\n",
       "      <td>37521</td>\n",
       "      <td>3</td>\n",
       "    </tr>\n",
       "    <tr>\n",
       "      <th>4</th>\n",
       "      <td>37522</td>\n",
       "      <td>3</td>\n",
       "    </tr>\n",
       "    <tr>\n",
       "      <th>5</th>\n",
       "      <td>37523</td>\n",
       "      <td>1</td>\n",
       "    </tr>\n",
       "    <tr>\n",
       "      <th>6</th>\n",
       "      <td>37524</td>\n",
       "      <td>1</td>\n",
       "    </tr>\n",
       "    <tr>\n",
       "      <th>7</th>\n",
       "      <td>37525</td>\n",
       "      <td>1</td>\n",
       "    </tr>\n",
       "    <tr>\n",
       "      <th>8</th>\n",
       "      <td>37526</td>\n",
       "      <td>1</td>\n",
       "    </tr>\n",
       "    <tr>\n",
       "      <th>9</th>\n",
       "      <td>37527</td>\n",
       "      <td>1</td>\n",
       "    </tr>\n",
       "  </tbody>\n",
       "</table>\n",
       "</div>"
      ],
      "text/plain": [
       "   row_id  target\n",
       "0   37518       3\n",
       "1   37519       3\n",
       "2   37520       3\n",
       "3   37521       3\n",
       "4   37522       3\n",
       "5   37523       1\n",
       "6   37524       1\n",
       "7   37525       1\n",
       "8   37526       1\n",
       "9   37527       1"
      ]
     },
     "execution_count": 26,
     "metadata": {},
     "output_type": "execute_result"
    }
   ],
   "source": [
    "sub.head(10)"
   ]
  },
  {
   "cell_type": "code",
   "execution_count": 27,
   "id": "9ee18b08-d18a-4294-8ba8-fedc3371c6bd",
   "metadata": {},
   "outputs": [],
   "source": [
    "sub.to_csv('xgb26_fin.csv',index=False)"
   ]
  },
  {
   "cell_type": "markdown",
   "id": "5be85ea0-37b3-48ac-bc05-82508cc77239",
   "metadata": {},
   "source": [
    "0.2810218978 on public leaderboard   \n",
    "0.269716531 on private leaderboard"
   ]
  },
  {
   "cell_type": "code",
   "execution_count": null,
   "id": "47c2ef33-a9cb-4206-9874-56ec0a813e64",
   "metadata": {},
   "outputs": [],
   "source": []
  },
  {
   "cell_type": "code",
   "execution_count": null,
   "id": "17fcbc86-f70d-4cac-ad90-c9523f3a33cb",
   "metadata": {},
   "outputs": [],
   "source": []
  }
 ],
 "metadata": {
  "kernelspec": {
   "display_name": "Python 3 (ipykernel)",
   "language": "python",
   "name": "python3"
  },
  "language_info": {
   "codemirror_mode": {
    "name": "ipython",
    "version": 3
   },
   "file_extension": ".py",
   "mimetype": "text/x-python",
   "name": "python",
   "nbconvert_exporter": "python",
   "pygments_lexer": "ipython3",
   "version": "3.8.10"
  }
 },
 "nbformat": 4,
 "nbformat_minor": 5
}
