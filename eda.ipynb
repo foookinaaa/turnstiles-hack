{
 "cells": [
  {
   "cell_type": "code",
   "execution_count": 45,
   "id": "bcf76692-a4d7-4c5e-938b-3fcf72ce87c9",
   "metadata": {},
   "outputs": [],
   "source": [
    "import pandas as pd\n",
    "import numpy as np\n",
    "from sklearn.preprocessing import OneHotEncoder\n",
    "from sklearn.metrics import accuracy_score\n",
    "import matplotlib.pyplot as plt\n",
    "\n",
    "import warnings\n",
    "warnings.filterwarnings('ignore')"
   ]
  },
  {
   "cell_type": "markdown",
   "id": "e4a9c915-3f0f-4325-89d4-602d653f8f8d",
   "metadata": {},
   "source": [
    "# train data"
   ]
  },
  {
   "cell_type": "code",
   "execution_count": 2,
   "id": "ba69db07-c5ed-44cf-b5f5-d11e7141beeb",
   "metadata": {},
   "outputs": [],
   "source": [
    "df = pd.read_csv('train.csv')\n",
    "df = df.sort_values('timestamp')\n",
    "df['timestamp'] = pd.to_datetime(df['timestamp'], format='%Y-%m-%d %H:%M:%S')"
   ]
  },
  {
   "cell_type": "code",
   "execution_count": 3,
   "id": "cbad29f5-066d-4a80-9d30-450a33b101ca",
   "metadata": {},
   "outputs": [
    {
     "data": {
      "text/html": [
       "<div>\n",
       "<style scoped>\n",
       "    .dataframe tbody tr th:only-of-type {\n",
       "        vertical-align: middle;\n",
       "    }\n",
       "\n",
       "    .dataframe tbody tr th {\n",
       "        vertical-align: top;\n",
       "    }\n",
       "\n",
       "    .dataframe thead th {\n",
       "        text-align: right;\n",
       "    }\n",
       "</style>\n",
       "<table border=\"1\" class=\"dataframe\">\n",
       "  <thead>\n",
       "    <tr style=\"text-align: right;\">\n",
       "      <th></th>\n",
       "      <th>row_id</th>\n",
       "      <th>user_id</th>\n",
       "      <th>timestamp</th>\n",
       "      <th>gate_id</th>\n",
       "    </tr>\n",
       "  </thead>\n",
       "  <tbody>\n",
       "    <tr>\n",
       "      <th>0</th>\n",
       "      <td>0</td>\n",
       "      <td>18</td>\n",
       "      <td>2022-07-29 09:08:54</td>\n",
       "      <td>7</td>\n",
       "    </tr>\n",
       "    <tr>\n",
       "      <th>1</th>\n",
       "      <td>1</td>\n",
       "      <td>18</td>\n",
       "      <td>2022-07-29 09:09:54</td>\n",
       "      <td>9</td>\n",
       "    </tr>\n",
       "    <tr>\n",
       "      <th>2</th>\n",
       "      <td>2</td>\n",
       "      <td>18</td>\n",
       "      <td>2022-07-29 09:09:54</td>\n",
       "      <td>9</td>\n",
       "    </tr>\n",
       "    <tr>\n",
       "      <th>3</th>\n",
       "      <td>3</td>\n",
       "      <td>18</td>\n",
       "      <td>2022-07-29 09:10:06</td>\n",
       "      <td>5</td>\n",
       "    </tr>\n",
       "    <tr>\n",
       "      <th>4</th>\n",
       "      <td>4</td>\n",
       "      <td>18</td>\n",
       "      <td>2022-07-29 09:10:08</td>\n",
       "      <td>5</td>\n",
       "    </tr>\n",
       "  </tbody>\n",
       "</table>\n",
       "</div>"
      ],
      "text/plain": [
       "   row_id  user_id           timestamp  gate_id\n",
       "0       0       18 2022-07-29 09:08:54        7\n",
       "1       1       18 2022-07-29 09:09:54        9\n",
       "2       2       18 2022-07-29 09:09:54        9\n",
       "3       3       18 2022-07-29 09:10:06        5\n",
       "4       4       18 2022-07-29 09:10:08        5"
      ]
     },
     "execution_count": 3,
     "metadata": {},
     "output_type": "execute_result"
    }
   ],
   "source": [
    "df.head()"
   ]
  },
  {
   "cell_type": "code",
   "execution_count": 4,
   "id": "cc943ed7-61ca-4ed0-9971-3441b1db4911",
   "metadata": {},
   "outputs": [
    {
     "data": {
      "text/plain": [
       "(37518, 4)"
      ]
     },
     "execution_count": 4,
     "metadata": {},
     "output_type": "execute_result"
    }
   ],
   "source": [
    "df.shape"
   ]
  },
  {
   "cell_type": "code",
   "execution_count": 33,
   "id": "9b5703d9-6bd7-4fd8-9010-08923a2d7b74",
   "metadata": {},
   "outputs": [
    {
     "data": {
      "text/plain": [
       "(Timestamp('2022-07-29 09:08:54'), Timestamp('2022-12-31 20:39:31'))"
      ]
     },
     "execution_count": 33,
     "metadata": {},
     "output_type": "execute_result"
    }
   ],
   "source": [
    "df['timestamp'].min(), df['timestamp'].max()"
   ]
  },
  {
   "cell_type": "markdown",
   "id": "ad4a09cb-1034-4e43-b969-ca542e347706",
   "metadata": {},
   "source": [
    "we have data for 4 months"
   ]
  },
  {
   "cell_type": "code",
   "execution_count": 38,
   "id": "4ad55d26-052b-4081-94d3-a322fb349aef",
   "metadata": {},
   "outputs": [
    {
     "data": {
      "text/plain": [
       "28    64\n",
       "45    57\n",
       "7     49\n",
       "36    48\n",
       "2     39\n",
       "8     29\n",
       "10    17\n",
       "38    13\n",
       "5     10\n",
       "30    10\n",
       "52     5\n",
       "21     5\n",
       "44     4\n",
       "51     3\n",
       "4      2\n",
       "Name: user_id, dtype: int64"
      ]
     },
     "execution_count": 38,
     "metadata": {},
     "output_type": "execute_result"
    }
   ],
   "source": [
    "df['user_id'].value_counts().tail(15)"
   ]
  },
  {
   "cell_type": "code",
   "execution_count": 43,
   "id": "64374287-4bc5-44e4-b295-e2d7ffa0208a",
   "metadata": {},
   "outputs": [
    {
     "data": {
      "text/html": [
       "<div>\n",
       "<style scoped>\n",
       "    .dataframe tbody tr th:only-of-type {\n",
       "        vertical-align: middle;\n",
       "    }\n",
       "\n",
       "    .dataframe tbody tr th {\n",
       "        vertical-align: top;\n",
       "    }\n",
       "\n",
       "    .dataframe thead th {\n",
       "        text-align: right;\n",
       "    }\n",
       "</style>\n",
       "<table border=\"1\" class=\"dataframe\">\n",
       "  <thead>\n",
       "    <tr style=\"text-align: right;\">\n",
       "      <th></th>\n",
       "      <th>row_id</th>\n",
       "      <th>user_id</th>\n",
       "      <th>timestamp</th>\n",
       "      <th>gate_id</th>\n",
       "    </tr>\n",
       "  </thead>\n",
       "  <tbody>\n",
       "    <tr>\n",
       "      <th>3505</th>\n",
       "      <td>3505</td>\n",
       "      <td>4</td>\n",
       "      <td>2022-08-09 10:09:08</td>\n",
       "      <td>8</td>\n",
       "    </tr>\n",
       "    <tr>\n",
       "      <th>3504</th>\n",
       "      <td>3504</td>\n",
       "      <td>4</td>\n",
       "      <td>2022-08-09 10:09:08</td>\n",
       "      <td>8</td>\n",
       "    </tr>\n",
       "  </tbody>\n",
       "</table>\n",
       "</div>"
      ],
      "text/plain": [
       "      row_id  user_id           timestamp  gate_id\n",
       "3505    3505        4 2022-08-09 10:09:08        8\n",
       "3504    3504        4 2022-08-09 10:09:08        8"
      ]
     },
     "execution_count": 43,
     "metadata": {},
     "output_type": "execute_result"
    }
   ],
   "source": [
    "df[df['user_id'] == 4]"
   ]
  },
  {
   "cell_type": "code",
   "execution_count": 41,
   "id": "052104fb-0dc1-4c86-994b-bdf27d75d5f2",
   "metadata": {},
   "outputs": [
    {
     "data": {
      "text/html": [
       "<div>\n",
       "<style scoped>\n",
       "    .dataframe tbody tr th:only-of-type {\n",
       "        vertical-align: middle;\n",
       "    }\n",
       "\n",
       "    .dataframe tbody tr th {\n",
       "        vertical-align: top;\n",
       "    }\n",
       "\n",
       "    .dataframe thead th {\n",
       "        text-align: right;\n",
       "    }\n",
       "</style>\n",
       "<table border=\"1\" class=\"dataframe\">\n",
       "  <thead>\n",
       "    <tr style=\"text-align: right;\">\n",
       "      <th></th>\n",
       "      <th>row_id</th>\n",
       "      <th>user_id</th>\n",
       "      <th>timestamp</th>\n",
       "      <th>gate_id</th>\n",
       "    </tr>\n",
       "  </thead>\n",
       "  <tbody>\n",
       "    <tr>\n",
       "      <th>36779</th>\n",
       "      <td>36779</td>\n",
       "      <td>44</td>\n",
       "      <td>2022-12-28 14:22:19</td>\n",
       "      <td>5</td>\n",
       "    </tr>\n",
       "    <tr>\n",
       "      <th>36780</th>\n",
       "      <td>36780</td>\n",
       "      <td>44</td>\n",
       "      <td>2022-12-28 14:22:21</td>\n",
       "      <td>5</td>\n",
       "    </tr>\n",
       "    <tr>\n",
       "      <th>36783</th>\n",
       "      <td>36783</td>\n",
       "      <td>44</td>\n",
       "      <td>2022-12-28 14:22:37</td>\n",
       "      <td>4</td>\n",
       "    </tr>\n",
       "    <tr>\n",
       "      <th>36784</th>\n",
       "      <td>36784</td>\n",
       "      <td>44</td>\n",
       "      <td>2022-12-28 14:22:39</td>\n",
       "      <td>4</td>\n",
       "    </tr>\n",
       "  </tbody>\n",
       "</table>\n",
       "</div>"
      ],
      "text/plain": [
       "       row_id  user_id           timestamp  gate_id\n",
       "36779   36779       44 2022-12-28 14:22:19        5\n",
       "36780   36780       44 2022-12-28 14:22:21        5\n",
       "36783   36783       44 2022-12-28 14:22:37        4\n",
       "36784   36784       44 2022-12-28 14:22:39        4"
      ]
     },
     "execution_count": 41,
     "metadata": {},
     "output_type": "execute_result"
    }
   ],
   "source": [
    "df[df['user_id'] == 44]"
   ]
  },
  {
   "cell_type": "code",
   "execution_count": 42,
   "id": "2f85a94e-29ad-49d6-9eee-8e95537be16f",
   "metadata": {},
   "outputs": [
    {
     "data": {
      "text/html": [
       "<div>\n",
       "<style scoped>\n",
       "    .dataframe tbody tr th:only-of-type {\n",
       "        vertical-align: middle;\n",
       "    }\n",
       "\n",
       "    .dataframe tbody tr th {\n",
       "        vertical-align: top;\n",
       "    }\n",
       "\n",
       "    .dataframe thead th {\n",
       "        text-align: right;\n",
       "    }\n",
       "</style>\n",
       "<table border=\"1\" class=\"dataframe\">\n",
       "  <thead>\n",
       "    <tr style=\"text-align: right;\">\n",
       "      <th></th>\n",
       "      <th>row_id</th>\n",
       "      <th>user_id</th>\n",
       "      <th>timestamp</th>\n",
       "      <th>gate_id</th>\n",
       "    </tr>\n",
       "  </thead>\n",
       "  <tbody>\n",
       "    <tr>\n",
       "      <th>33465</th>\n",
       "      <td>33465</td>\n",
       "      <td>51</td>\n",
       "      <td>2022-12-13 13:30:11</td>\n",
       "      <td>3</td>\n",
       "    </tr>\n",
       "    <tr>\n",
       "      <th>34330</th>\n",
       "      <td>34330</td>\n",
       "      <td>51</td>\n",
       "      <td>2022-12-16 13:56:08</td>\n",
       "      <td>9</td>\n",
       "    </tr>\n",
       "    <tr>\n",
       "      <th>34331</th>\n",
       "      <td>34331</td>\n",
       "      <td>51</td>\n",
       "      <td>2022-12-16 13:56:08</td>\n",
       "      <td>9</td>\n",
       "    </tr>\n",
       "  </tbody>\n",
       "</table>\n",
       "</div>"
      ],
      "text/plain": [
       "       row_id  user_id           timestamp  gate_id\n",
       "33465   33465       51 2022-12-13 13:30:11        3\n",
       "34330   34330       51 2022-12-16 13:56:08        9\n",
       "34331   34331       51 2022-12-16 13:56:08        9"
      ]
     },
     "execution_count": 42,
     "metadata": {},
     "output_type": "execute_result"
    }
   ],
   "source": [
    "df[df['user_id'] == 51]"
   ]
  },
  {
   "cell_type": "markdown",
   "id": "b8e8f72c-42e6-472b-b9d8-80f17ba690b9",
   "metadata": {},
   "source": [
    "some strange users, has small history"
   ]
  },
  {
   "cell_type": "code",
   "execution_count": 13,
   "id": "7339e26a-7602-49b3-a1a3-56c25667b335",
   "metadata": {},
   "outputs": [
    {
     "data": {
      "text/plain": [
       "array([18,  1,  3,  6, 29, 55, 24, 39, 47, 33,  0, 31, 37, 26, 50, 49, 53,\n",
       "       20, 54, 19, 12, 46, 27, 25, 11, 15,  9, 48, 40, 56, 34, 22, 45, 23,\n",
       "       57,  4,  8, 52, 32, 28,  7, 36, 42, 14, 35, 17,  5, 38, 41, 43, 10,\n",
       "       51, 21, 30, 44,  2])"
      ]
     },
     "execution_count": 13,
     "metadata": {},
     "output_type": "execute_result"
    }
   ],
   "source": [
    "df['user_id'].unique()"
   ]
  },
  {
   "cell_type": "markdown",
   "id": "747721d0-e109-43ed-a335-426e9dd8bb5b",
   "metadata": {},
   "source": [
    "there is no user_id number 13,16"
   ]
  },
  {
   "cell_type": "markdown",
   "id": "93c2c111-98dd-4b0e-b816-894603bcd109",
   "metadata": {},
   "source": [
    "# test data"
   ]
  },
  {
   "cell_type": "code",
   "execution_count": 5,
   "id": "6ef670fd-520b-4239-a64f-e6926184f730",
   "metadata": {},
   "outputs": [],
   "source": [
    "test = pd.read_csv('test.csv')\n",
    "test = test.sort_values('timestamp')"
   ]
  },
  {
   "cell_type": "code",
   "execution_count": 6,
   "id": "2ab3aefc-0c3a-4ee5-825d-0d70f80d8e8c",
   "metadata": {},
   "outputs": [
    {
     "data": {
      "text/html": [
       "<div>\n",
       "<style scoped>\n",
       "    .dataframe tbody tr th:only-of-type {\n",
       "        vertical-align: middle;\n",
       "    }\n",
       "\n",
       "    .dataframe tbody tr th {\n",
       "        vertical-align: top;\n",
       "    }\n",
       "\n",
       "    .dataframe thead th {\n",
       "        text-align: right;\n",
       "    }\n",
       "</style>\n",
       "<table border=\"1\" class=\"dataframe\">\n",
       "  <thead>\n",
       "    <tr style=\"text-align: right;\">\n",
       "      <th></th>\n",
       "      <th>row_id</th>\n",
       "      <th>timestamp</th>\n",
       "      <th>gate_id</th>\n",
       "    </tr>\n",
       "  </thead>\n",
       "  <tbody>\n",
       "    <tr>\n",
       "      <th>0</th>\n",
       "      <td>37518</td>\n",
       "      <td>2023-01-03 08:21:00</td>\n",
       "      <td>9</td>\n",
       "    </tr>\n",
       "    <tr>\n",
       "      <th>1</th>\n",
       "      <td>37519</td>\n",
       "      <td>2023-01-03 08:21:00</td>\n",
       "      <td>9</td>\n",
       "    </tr>\n",
       "    <tr>\n",
       "      <th>2</th>\n",
       "      <td>37520</td>\n",
       "      <td>2023-01-03 08:21:18</td>\n",
       "      <td>5</td>\n",
       "    </tr>\n",
       "    <tr>\n",
       "      <th>3</th>\n",
       "      <td>37521</td>\n",
       "      <td>2023-01-03 08:21:19</td>\n",
       "      <td>5</td>\n",
       "    </tr>\n",
       "    <tr>\n",
       "      <th>4</th>\n",
       "      <td>37522</td>\n",
       "      <td>2023-01-03 08:21:39</td>\n",
       "      <td>10</td>\n",
       "    </tr>\n",
       "  </tbody>\n",
       "</table>\n",
       "</div>"
      ],
      "text/plain": [
       "   row_id            timestamp  gate_id\n",
       "0   37518  2023-01-03 08:21:00        9\n",
       "1   37519  2023-01-03 08:21:00        9\n",
       "2   37520  2023-01-03 08:21:18        5\n",
       "3   37521  2023-01-03 08:21:19        5\n",
       "4   37522  2023-01-03 08:21:39       10"
      ]
     },
     "execution_count": 6,
     "metadata": {},
     "output_type": "execute_result"
    }
   ],
   "source": [
    "test.head()"
   ]
  },
  {
   "cell_type": "code",
   "execution_count": 7,
   "id": "e9427b08-bed3-49b1-8b87-95c7b1cd6fd2",
   "metadata": {},
   "outputs": [
    {
     "data": {
      "text/plain": [
       "(7125, 3)"
      ]
     },
     "execution_count": 7,
     "metadata": {},
     "output_type": "execute_result"
    }
   ],
   "source": [
    "test.shape"
   ]
  },
  {
   "cell_type": "code",
   "execution_count": 54,
   "id": "f9f63181-afc1-4a03-9d36-e25d53529a1f",
   "metadata": {},
   "outputs": [
    {
     "data": {
      "text/plain": [
       "(Timestamp('2023-01-03 08:21:00'), Timestamp('2023-02-24 19:44:09'))"
      ]
     },
     "execution_count": 54,
     "metadata": {},
     "output_type": "execute_result"
    }
   ],
   "source": [
    "test['timestamp'].min(), test['timestamp'].max()"
   ]
  },
  {
   "cell_type": "markdown",
   "id": "85d37497-a565-4efb-af14-ff6133b88897",
   "metadata": {},
   "source": [
    "we need to predict next 2 months"
   ]
  },
  {
   "cell_type": "markdown",
   "id": "78956670-4904-40f4-a7ef-d472b01333b3",
   "metadata": {},
   "source": [
    "# Compare train and test"
   ]
  },
  {
   "cell_type": "code",
   "execution_count": 20,
   "id": "373b2e70-e6bf-45ef-9be1-73bed13a6bd9",
   "metadata": {},
   "outputs": [],
   "source": [
    "gate_cnt_train = df['gate_id'].value_counts()\n",
    "gate_cnt_test = test['gate_id'].value_counts()\n",
    "gate_cnt_total = pd.concat([gate_cnt_train,gate_cnt_test], axis=1)\n",
    "gate_cnt_total.columns = ['gate_cnt_train', 'gate_cnt_test']"
   ]
  },
  {
   "cell_type": "code",
   "execution_count": 27,
   "id": "50809139-8cf9-47dd-8f73-490a100301d1",
   "metadata": {},
   "outputs": [
    {
     "data": {
      "text/html": [
       "<div>\n",
       "<style scoped>\n",
       "    .dataframe tbody tr th:only-of-type {\n",
       "        vertical-align: middle;\n",
       "    }\n",
       "\n",
       "    .dataframe tbody tr th {\n",
       "        vertical-align: top;\n",
       "    }\n",
       "\n",
       "    .dataframe thead th {\n",
       "        text-align: right;\n",
       "    }\n",
       "</style>\n",
       "<table border=\"1\" class=\"dataframe\">\n",
       "  <thead>\n",
       "    <tr style=\"text-align: right;\">\n",
       "      <th></th>\n",
       "      <th>gate_cnt_train</th>\n",
       "      <th>gate_cnt_test</th>\n",
       "    </tr>\n",
       "  </thead>\n",
       "  <tbody>\n",
       "    <tr>\n",
       "      <th>4</th>\n",
       "      <td>8170.0</td>\n",
       "      <td>1459.0</td>\n",
       "    </tr>\n",
       "    <tr>\n",
       "      <th>3</th>\n",
       "      <td>5351.0</td>\n",
       "      <td>909.0</td>\n",
       "    </tr>\n",
       "    <tr>\n",
       "      <th>10</th>\n",
       "      <td>4767.0</td>\n",
       "      <td>915.0</td>\n",
       "    </tr>\n",
       "    <tr>\n",
       "      <th>5</th>\n",
       "      <td>4619.0</td>\n",
       "      <td>860.0</td>\n",
       "    </tr>\n",
       "    <tr>\n",
       "      <th>11</th>\n",
       "      <td>4090.0</td>\n",
       "      <td>762.0</td>\n",
       "    </tr>\n",
       "    <tr>\n",
       "      <th>9</th>\n",
       "      <td>3390.0</td>\n",
       "      <td>780.0</td>\n",
       "    </tr>\n",
       "    <tr>\n",
       "      <th>7</th>\n",
       "      <td>3026.0</td>\n",
       "      <td>540.0</td>\n",
       "    </tr>\n",
       "    <tr>\n",
       "      <th>6</th>\n",
       "      <td>1800.0</td>\n",
       "      <td>294.0</td>\n",
       "    </tr>\n",
       "    <tr>\n",
       "      <th>13</th>\n",
       "      <td>1201.0</td>\n",
       "      <td>345.0</td>\n",
       "    </tr>\n",
       "    <tr>\n",
       "      <th>12</th>\n",
       "      <td>698.0</td>\n",
       "      <td>132.0</td>\n",
       "    </tr>\n",
       "    <tr>\n",
       "      <th>15</th>\n",
       "      <td>298.0</td>\n",
       "      <td>102.0</td>\n",
       "    </tr>\n",
       "    <tr>\n",
       "      <th>-1</th>\n",
       "      <td>48.0</td>\n",
       "      <td>2.0</td>\n",
       "    </tr>\n",
       "    <tr>\n",
       "      <th>8</th>\n",
       "      <td>48.0</td>\n",
       "      <td>18.0</td>\n",
       "    </tr>\n",
       "    <tr>\n",
       "      <th>1</th>\n",
       "      <td>5.0</td>\n",
       "      <td>2.0</td>\n",
       "    </tr>\n",
       "    <tr>\n",
       "      <th>16</th>\n",
       "      <td>4.0</td>\n",
       "      <td>NaN</td>\n",
       "    </tr>\n",
       "    <tr>\n",
       "      <th>0</th>\n",
       "      <td>2.0</td>\n",
       "      <td>NaN</td>\n",
       "    </tr>\n",
       "    <tr>\n",
       "      <th>14</th>\n",
       "      <td>1.0</td>\n",
       "      <td>1.0</td>\n",
       "    </tr>\n",
       "    <tr>\n",
       "      <th>2</th>\n",
       "      <td>NaN</td>\n",
       "      <td>4.0</td>\n",
       "    </tr>\n",
       "  </tbody>\n",
       "</table>\n",
       "</div>"
      ],
      "text/plain": [
       "     gate_cnt_train  gate_cnt_test\n",
       " 4           8170.0         1459.0\n",
       " 3           5351.0          909.0\n",
       " 10          4767.0          915.0\n",
       " 5           4619.0          860.0\n",
       " 11          4090.0          762.0\n",
       " 9           3390.0          780.0\n",
       " 7           3026.0          540.0\n",
       " 6           1800.0          294.0\n",
       " 13          1201.0          345.0\n",
       " 12           698.0          132.0\n",
       " 15           298.0          102.0\n",
       "-1             48.0            2.0\n",
       " 8             48.0           18.0\n",
       " 1              5.0            2.0\n",
       " 16             4.0            NaN\n",
       " 0              2.0            NaN\n",
       " 14             1.0            1.0\n",
       " 2              NaN            4.0"
      ]
     },
     "execution_count": 27,
     "metadata": {},
     "output_type": "execute_result"
    }
   ],
   "source": [
    "gate_cnt_total"
   ]
  },
  {
   "cell_type": "markdown",
   "id": "7fc86af7-d25d-4103-adee-1f183e78bdea",
   "metadata": {},
   "source": [
    "* there is no gate_id in train number 2\n",
    "* there is no gate_id in test number 0,16\n",
    "* small values in gate_id -1, 8, 1, 16, 0, 14, 2"
   ]
  },
  {
   "cell_type": "code",
   "execution_count": 30,
   "id": "fe87a7d4-3946-4c73-8cf4-25d66f9255a3",
   "metadata": {},
   "outputs": [
    {
     "data": {
      "text/html": [
       "<div>\n",
       "<style scoped>\n",
       "    .dataframe tbody tr th:only-of-type {\n",
       "        vertical-align: middle;\n",
       "    }\n",
       "\n",
       "    .dataframe tbody tr th {\n",
       "        vertical-align: top;\n",
       "    }\n",
       "\n",
       "    .dataframe thead th {\n",
       "        text-align: right;\n",
       "    }\n",
       "</style>\n",
       "<table border=\"1\" class=\"dataframe\">\n",
       "  <thead>\n",
       "    <tr style=\"text-align: right;\">\n",
       "      <th></th>\n",
       "      <th>row_id</th>\n",
       "      <th>user_id</th>\n",
       "      <th>timestamp</th>\n",
       "      <th>gate_id</th>\n",
       "    </tr>\n",
       "  </thead>\n",
       "  <tbody>\n",
       "    <tr>\n",
       "      <th>12650</th>\n",
       "      <td>12650</td>\n",
       "      <td>25</td>\n",
       "      <td>2022-09-06 11:16:22</td>\n",
       "      <td>1</td>\n",
       "    </tr>\n",
       "    <tr>\n",
       "      <th>12651</th>\n",
       "      <td>12651</td>\n",
       "      <td>25</td>\n",
       "      <td>2022-09-06 11:16:24</td>\n",
       "      <td>1</td>\n",
       "    </tr>\n",
       "    <tr>\n",
       "      <th>27897</th>\n",
       "      <td>27897</td>\n",
       "      <td>23</td>\n",
       "      <td>2022-11-05 10:04:27</td>\n",
       "      <td>1</td>\n",
       "    </tr>\n",
       "    <tr>\n",
       "      <th>27898</th>\n",
       "      <td>27898</td>\n",
       "      <td>23</td>\n",
       "      <td>2022-11-05 10:04:29</td>\n",
       "      <td>1</td>\n",
       "    </tr>\n",
       "    <tr>\n",
       "      <th>33581</th>\n",
       "      <td>33581</td>\n",
       "      <td>23</td>\n",
       "      <td>2022-12-14 09:09:34</td>\n",
       "      <td>1</td>\n",
       "    </tr>\n",
       "  </tbody>\n",
       "</table>\n",
       "</div>"
      ],
      "text/plain": [
       "       row_id  user_id           timestamp  gate_id\n",
       "12650   12650       25 2022-09-06 11:16:22        1\n",
       "12651   12651       25 2022-09-06 11:16:24        1\n",
       "27897   27897       23 2022-11-05 10:04:27        1\n",
       "27898   27898       23 2022-11-05 10:04:29        1\n",
       "33581   33581       23 2022-12-14 09:09:34        1"
      ]
     },
     "execution_count": 30,
     "metadata": {},
     "output_type": "execute_result"
    }
   ],
   "source": [
    "df[df['gate_id'] == 1]"
   ]
  },
  {
   "cell_type": "markdown",
   "id": "d6545abc-ff74-4351-994f-9278236ba747",
   "metadata": {},
   "source": [
    "in gate_id = 1, user_id = 25 or user_id = 23"
   ]
  },
  {
   "cell_type": "code",
   "execution_count": 31,
   "id": "9abc4ceb-6004-4f83-bc3e-b396992ed911",
   "metadata": {},
   "outputs": [
    {
     "data": {
      "text/html": [
       "<div>\n",
       "<style scoped>\n",
       "    .dataframe tbody tr th:only-of-type {\n",
       "        vertical-align: middle;\n",
       "    }\n",
       "\n",
       "    .dataframe tbody tr th {\n",
       "        vertical-align: top;\n",
       "    }\n",
       "\n",
       "    .dataframe thead th {\n",
       "        text-align: right;\n",
       "    }\n",
       "</style>\n",
       "<table border=\"1\" class=\"dataframe\">\n",
       "  <thead>\n",
       "    <tr style=\"text-align: right;\">\n",
       "      <th></th>\n",
       "      <th>row_id</th>\n",
       "      <th>user_id</th>\n",
       "      <th>timestamp</th>\n",
       "      <th>gate_id</th>\n",
       "    </tr>\n",
       "  </thead>\n",
       "  <tbody>\n",
       "    <tr>\n",
       "      <th>35592</th>\n",
       "      <td>35592</td>\n",
       "      <td>12</td>\n",
       "      <td>2022-12-22 12:19:35</td>\n",
       "      <td>14</td>\n",
       "    </tr>\n",
       "  </tbody>\n",
       "</table>\n",
       "</div>"
      ],
      "text/plain": [
       "       row_id  user_id           timestamp  gate_id\n",
       "35592   35592       12 2022-12-22 12:19:35       14"
      ]
     },
     "execution_count": 31,
     "metadata": {},
     "output_type": "execute_result"
    }
   ],
   "source": [
    "df[df['gate_id'] == 14]"
   ]
  },
  {
   "cell_type": "markdown",
   "id": "9605c9a1-ab8b-4dfc-aac4-a835343cee19",
   "metadata": {},
   "source": [
    "in gate_id = 14, user_id = 12"
   ]
  },
  {
   "cell_type": "code",
   "execution_count": 46,
   "id": "933710e1-c97d-4ff5-b918-8ee93e74b587",
   "metadata": {},
   "outputs": [],
   "source": [
    "# create some simple features\n",
    "def get_feats(df):\n",
    "    df['timestamp'] = pd.to_datetime(df['timestamp'], format='%Y-%m-%d %H:%M:%S')\n",
    "    df['hour'] = df['timestamp'].dt.hour\n",
    "    df['minute'] = df['timestamp'].dt.minute\n",
    "    df['second'] = df['timestamp'].dt.second\n",
    "    df['date'] = df['timestamp'].apply(lambda x: str(x)[:10])\n",
    "    df['day'] = df['timestamp'].dt.day\n",
    "    df['dayofweek'] = df['timestamp'].dt.dayofweek     \n",
    "    df['weekend'] = df['dayofweek'].isin([6,7]).astype('int')\n",
    "    df['weekend'] = np.where(df['date'].isin(['2022-09-12','2022-11-25','2023-01-16']),1,df['weekend']) # holidays\n",
    "       \n",
    "    enc = OneHotEncoder()\n",
    "    enc.fit(df[['dayofweek']])\n",
    "    days = pd.DataFrame(enc.transform(df[['dayofweek']]).toarray())\n",
    "    days.columns = ['Monday','Tuesday','Wednesday','Thursday','Friday','Saturday','Sunday']\n",
    "    days.index = df.index\n",
    "    df = df.join(days)\n",
    "    \n",
    "    return df"
   ]
  },
  {
   "cell_type": "code",
   "execution_count": 48,
   "id": "63fe83b0-94f6-46f6-a709-41b734b69ee8",
   "metadata": {},
   "outputs": [],
   "source": [
    "df = get_feats(df)\n",
    "test = get_feats(test)"
   ]
  },
  {
   "cell_type": "code",
   "execution_count": 52,
   "id": "f91d71d4-64d6-4f71-b9ba-eac116982c2f",
   "metadata": {},
   "outputs": [
    {
     "data": {
      "image/png": "[encoded data removed]",
      "text/plain": [
       "<Figure size 2000x600 with 1 Axes>"
      ]
     },
     "metadata": {},
     "output_type": "display_data"
    }
   ],
   "source": [
    "plt.figure(figsize=(20,6))\n",
    "df[df['user_id'] == 20]['date'].value_counts().sort_index().plot(kind='bar');"
   ]
  },
  {
   "cell_type": "markdown",
   "id": "ba87dd18-10bd-4f20-aeb8-850353c699af",
   "metadata": {},
   "source": [
    "There is users that has small history, or old history. Named their as wrong users :)"
   ]
  },
  {
   "cell_type": "code",
   "execution_count": 55,
   "id": "9d1f3433-1dc6-4090-8dbc-01fad285a3ac",
   "metadata": {},
   "outputs": [],
   "source": [
    "wrong_user = [4,5,7,8,10,20,21,30,31,38,40,42,44,45,51,52,57]"
   ]
  },
  {
   "cell_type": "code",
   "execution_count": 56,
   "id": "7256a01b-8282-4166-a509-0e170cbdd436",
   "metadata": {},
   "outputs": [
    {
     "data": {
      "image/png": "[encoded data removed]",
      "text/plain": [
       "<Figure size 2000x600 with 1 Axes>"
      ]
     },
     "metadata": {},
     "output_type": "display_data"
    }
   ],
   "source": [
    "plt.figure(figsize=(20,6))\n",
    "test['date'].value_counts().sort_index().plot(kind='bar');"
   ]
  },
  {
   "cell_type": "markdown",
   "id": "e2c91337-88ed-4aeb-a700-fe04dc838962",
   "metadata": {},
   "source": [
    "Something strange was in February. Big holidays?"
   ]
  },
  {
   "cell_type": "markdown",
   "id": "623b6e91-51cb-4af7-85ad-31baa0b8cb22",
   "metadata": {},
   "source": [
    "# Conclusions"
   ]
  },
  {
   "cell_type": "markdown",
   "id": "4c03ba13-eaca-4f04-b4c7-6696a970446f",
   "metadata": {},
   "source": [
    "* in gate_id = 14, user_id = 12\n",
    "* in gate_id = 1, user_id = 25 or user_id = 23\n",
    "* There is users that has small history, or old history - wrong_users -> drop them\n",
    "* small counts was in February -> put it as weekend"
   ]
  },
  {
   "cell_type": "code",
   "execution_count": null,
   "id": "c687db7d-795f-45c5-a8b1-93a3668a9998",
   "metadata": {},
   "outputs": [],
   "source": []
  }
 ],
 "metadata": {
  "kernelspec": {
   "display_name": "Python 3 (ipykernel)",
   "language": "python",
   "name": "python3"
  },
  "language_info": {
   "codemirror_mode": {
    "name": "ipython",
    "version": 3
   },
   "file_extension": ".py",
   "mimetype": "text/x-python",
   "name": "python",
   "nbconvert_exporter": "python",
   "pygments_lexer": "ipython3",
   "version": "3.8.10"
  }
 },
 "nbformat": 4,
 "nbformat_minor": 5
}
